{
 "cells": [
  {
   "cell_type": "code",
   "execution_count": 1,
   "metadata": {},
   "outputs": [
    {
     "name": "stderr",
     "output_type": "stream",
     "text": [
      "/home/jhpark/anaconda3/envs/jeongha/lib/python3.6/site-packages/requests/__init__.py:104: RequestsDependencyWarning: urllib3 (1.26.15) or chardet (5.0.0)/charset_normalizer (2.0.12) doesn't match a supported version!\n",
      "  RequestsDependencyWarning)\n"
     ]
    }
   ],
   "source": [
    "import pandas as pd\n",
    "from igraph import Graph\n",
    "import igraph\n",
    "import matplotlib.pyplot as plt\n",
    "import networkx as nx\n",
    "from collections import Counter\n",
    "import pandas as pd\n",
    "from stellargraph import StellarGraph, datasets\n",
    "from stellargraph.data import EdgeSplitter\n",
    "import numpy as np\n",
    "import stellargraph as sg\n",
    "import pickle"
   ]
  },
  {
   "cell_type": "code",
   "execution_count": 2,
   "metadata": {},
   "outputs": [],
   "source": [
    "from stellargraph.data import UnsupervisedSampler\n",
    "from stellargraph.mapper import GraphSAGELinkGenerator,GraphSAGENodeGenerator\n",
    "from stellargraph.layer import GraphSAGE, link_classification\n",
    "from stellargraph.data import UniformRandomWalk\n",
    "from tensorflow import keras\n",
    "import time\n",
    "from collections import defaultdict"
   ]
  },
  {
   "cell_type": "code",
   "execution_count": 3,
   "metadata": {},
   "outputs": [],
   "source": [
    "defaultVal = 1\n",
    "incentiveVal = 1\n",
    "penaltyVal = 1\n",
    "# 극대화"
   ]
  },
  {
   "cell_type": "code",
   "execution_count": 4,
   "metadata": {},
   "outputs": [],
   "source": [
    "# Edge between two user node (607,333 friendships)\n",
    "file = '/home/jhpark/dataset/dataset_WWW_friendship_new.txt'\n",
    "g = nx.read_edgelist(file , nodetype = int, edgetype='Freindship')"
   ]
  },
  {
   "cell_type": "code",
   "execution_count": 5,
   "metadata": {},
   "outputs": [],
   "source": [
    "ig = Graph.from_networkx(g) # NetworkX to igraph \n",
    "ig.vs[\"id\"] = ig.vs[\"_nx_name\"]\n",
    "ig.es[\"weight\"] = [defaultVal]*ig.ecount()"
   ]
  },
  {
   "cell_type": "code",
   "execution_count": 6,
   "metadata": {},
   "outputs": [
    {
     "ename": "ModuleNotFoundError",
     "evalue": "No module named 'pymetis'",
     "output_type": "error",
     "traceback": [
      "\u001b[0;31m---------------------------------------------------------------------------\u001b[0m",
      "\u001b[0;31mModuleNotFoundError\u001b[0m                       Traceback (most recent call last)",
      "\u001b[0;32m<ipython-input-6-49d66d4d7aba>\u001b[0m in \u001b[0;36m<module>\u001b[0;34m\u001b[0m\n\u001b[1;32m      1\u001b[0m \u001b[0;31m# METIS Partitioning !!!!\u001b[0m\u001b[0;34m\u001b[0m\u001b[0;34m\u001b[0m\u001b[0;34m\u001b[0m\u001b[0m\n\u001b[0;32m----> 2\u001b[0;31m \u001b[0;32mimport\u001b[0m \u001b[0mpymetis\u001b[0m\u001b[0;34m\u001b[0m\u001b[0;34m\u001b[0m\u001b[0m\n\u001b[0m\u001b[1;32m      3\u001b[0m \u001b[0madjlist\u001b[0m \u001b[0;34m=\u001b[0m \u001b[0;34m[\u001b[0m\u001b[0;34m]\u001b[0m\u001b[0;34m\u001b[0m\u001b[0;34m\u001b[0m\u001b[0m\n\u001b[1;32m      4\u001b[0m \u001b[0;32mfor\u001b[0m \u001b[0mline\u001b[0m \u001b[0;32min\u001b[0m \u001b[0mnx\u001b[0m\u001b[0;34m.\u001b[0m\u001b[0mgenerate_adjlist\u001b[0m\u001b[0;34m(\u001b[0m\u001b[0mg\u001b[0m\u001b[0;34m)\u001b[0m\u001b[0;34m:\u001b[0m\u001b[0;34m\u001b[0m\u001b[0;34m\u001b[0m\u001b[0m\n\u001b[1;32m      5\u001b[0m     \u001b[0madjlist\u001b[0m\u001b[0;34m.\u001b[0m\u001b[0mappend\u001b[0m\u001b[0;34m(\u001b[0m\u001b[0;34m[\u001b[0m\u001b[0mline\u001b[0m\u001b[0;34m]\u001b[0m\u001b[0;34m)\u001b[0m\u001b[0;34m\u001b[0m\u001b[0;34m\u001b[0m\u001b[0m\n",
      "\u001b[0;31mModuleNotFoundError\u001b[0m: No module named 'pymetis'"
     ]
    }
   ],
   "source": [
    "# METIS Partitioning !!!!\n",
    "import pymetis\n",
    "adjlist = []\n",
    "for line in nx.generate_adjlist(g):\n",
    "    adjlist.append([line])\n",
    "    \n",
    "for i in range(len(adjlist)):\n",
    "    adjlist[i] = list(map(int,adjlist[i][0].split()))"
   ]
  },
  {
   "cell_type": "code",
   "execution_count": 45,
   "metadata": {},
   "outputs": [],
   "source": [
    "# Adjlist index 안맞아서 전처리함\n",
    "nodes = []\n",
    "for el in adjlist:\n",
    "    nodes.append(el[0])\n",
    "    \n",
    "nodes_dict = {k: v for v, k in enumerate(nodes)}\n",
    "\n",
    "for i in range(len(adjlist)):\n",
    "    for j in range(len(adjlist[i])):\n",
    "        adjlist[i][j] = nodes_dict[adjlist[i][j]]"
   ]
  },
  {
   "cell_type": "code",
   "execution_count": null,
   "metadata": {},
   "outputs": [],
   "source": [
    "k = 50\n",
    "partitioned = pymetis.part_graph(k, adjacency=adjlist)\n",
    "\n",
    "membership = partitioned[1]\n",
    "Counter(membership)"
   ]
  },
  {
   "cell_type": "code",
   "execution_count": 7,
   "metadata": {},
   "outputs": [],
   "source": [
    "node_features_encoded = pd.read_csv(\"/home/jhpark/dataset/node_features_encoded.csv\", index_col=0)"
   ]
  },
  {
   "cell_type": "code",
   "execution_count": 8,
   "metadata": {},
   "outputs": [
    {
     "data": {
      "text/html": [
       "<div>\n",
       "<style scoped>\n",
       "    .dataframe tbody tr th:only-of-type {\n",
       "        vertical-align: middle;\n",
       "    }\n",
       "\n",
       "    .dataframe tbody tr th {\n",
       "        vertical-align: top;\n",
       "    }\n",
       "\n",
       "    .dataframe thead th {\n",
       "        text-align: right;\n",
       "    }\n",
       "</style>\n",
       "<table border=\"1\" class=\"dataframe\">\n",
       "  <thead>\n",
       "    <tr style=\"text-align: right;\">\n",
       "      <th></th>\n",
       "      <th>userID</th>\n",
       "      <th>latitude</th>\n",
       "      <th>longitude</th>\n",
       "      <th>degree</th>\n",
       "      <th>countrycode_encoded</th>\n",
       "      <th>category_encoded</th>\n",
       "    </tr>\n",
       "  </thead>\n",
       "  <tbody>\n",
       "    <tr>\n",
       "      <th>0</th>\n",
       "      <td>15</td>\n",
       "      <td>36.292778</td>\n",
       "      <td>-119.332032</td>\n",
       "      <td>1</td>\n",
       "      <td>136</td>\n",
       "      <td>179</td>\n",
       "    </tr>\n",
       "    <tr>\n",
       "      <th>1</th>\n",
       "      <td>595326</td>\n",
       "      <td>36.330163</td>\n",
       "      <td>-119.292760</td>\n",
       "      <td>2</td>\n",
       "      <td>136</td>\n",
       "      <td>30</td>\n",
       "    </tr>\n",
       "    <tr>\n",
       "      <th>2</th>\n",
       "      <td>19</td>\n",
       "      <td>40.725292</td>\n",
       "      <td>-73.989419</td>\n",
       "      <td>21</td>\n",
       "      <td>136</td>\n",
       "      <td>3</td>\n",
       "    </tr>\n",
       "    <tr>\n",
       "      <th>3</th>\n",
       "      <td>54</td>\n",
       "      <td>37.781213</td>\n",
       "      <td>-122.402973</td>\n",
       "      <td>12</td>\n",
       "      <td>136</td>\n",
       "      <td>369</td>\n",
       "    </tr>\n",
       "    <tr>\n",
       "      <th>4</th>\n",
       "      <td>1061</td>\n",
       "      <td>37.761245</td>\n",
       "      <td>-122.402169</td>\n",
       "      <td>4</td>\n",
       "      <td>136</td>\n",
       "      <td>369</td>\n",
       "    </tr>\n",
       "    <tr>\n",
       "      <th>...</th>\n",
       "      <td>...</td>\n",
       "      <td>...</td>\n",
       "      <td>...</td>\n",
       "      <td>...</td>\n",
       "      <td>...</td>\n",
       "      <td>...</td>\n",
       "    </tr>\n",
       "    <tr>\n",
       "      <th>114319</th>\n",
       "      <td>2110586</td>\n",
       "      <td>41.015145</td>\n",
       "      <td>29.082438</td>\n",
       "      <td>1</td>\n",
       "      <td>130</td>\n",
       "      <td>311</td>\n",
       "    </tr>\n",
       "    <tr>\n",
       "      <th>114320</th>\n",
       "      <td>2112106</td>\n",
       "      <td>40.977817</td>\n",
       "      <td>28.869099</td>\n",
       "      <td>1</td>\n",
       "      <td>130</td>\n",
       "      <td>237</td>\n",
       "    </tr>\n",
       "    <tr>\n",
       "      <th>114321</th>\n",
       "      <td>2112150</td>\n",
       "      <td>1.349318</td>\n",
       "      <td>103.746295</td>\n",
       "      <td>1</td>\n",
       "      <td>122</td>\n",
       "      <td>199</td>\n",
       "    </tr>\n",
       "    <tr>\n",
       "      <th>114322</th>\n",
       "      <td>2127581</td>\n",
       "      <td>1.309555</td>\n",
       "      <td>103.778610</td>\n",
       "      <td>1</td>\n",
       "      <td>122</td>\n",
       "      <td>237</td>\n",
       "    </tr>\n",
       "    <tr>\n",
       "      <th>114323</th>\n",
       "      <td>2121716</td>\n",
       "      <td>3.192952</td>\n",
       "      <td>113.045599</td>\n",
       "      <td>1</td>\n",
       "      <td>95</td>\n",
       "      <td>316</td>\n",
       "    </tr>\n",
       "  </tbody>\n",
       "</table>\n",
       "<p>114324 rows × 6 columns</p>\n",
       "</div>"
      ],
      "text/plain": [
       "         userID   latitude   longitude  degree  countrycode_encoded  \\\n",
       "0            15  36.292778 -119.332032       1                  136   \n",
       "1        595326  36.330163 -119.292760       2                  136   \n",
       "2            19  40.725292  -73.989419      21                  136   \n",
       "3            54  37.781213 -122.402973      12                  136   \n",
       "4          1061  37.761245 -122.402169       4                  136   \n",
       "...         ...        ...         ...     ...                  ...   \n",
       "114319  2110586  41.015145   29.082438       1                  130   \n",
       "114320  2112106  40.977817   28.869099       1                  130   \n",
       "114321  2112150   1.349318  103.746295       1                  122   \n",
       "114322  2127581   1.309555  103.778610       1                  122   \n",
       "114323  2121716   3.192952  113.045599       1                   95   \n",
       "\n",
       "        category_encoded  \n",
       "0                    179  \n",
       "1                     30  \n",
       "2                      3  \n",
       "3                    369  \n",
       "4                    369  \n",
       "...                  ...  \n",
       "114319               311  \n",
       "114320               237  \n",
       "114321               199  \n",
       "114322               237  \n",
       "114323               316  \n",
       "\n",
       "[114324 rows x 6 columns]"
      ]
     },
     "execution_count": 8,
     "metadata": {},
     "output_type": "execute_result"
    }
   ],
   "source": [
    "node_features_encoded"
   ]
  },
  {
   "cell_type": "code",
   "execution_count": 9,
   "metadata": {},
   "outputs": [],
   "source": [
    "country_degree = pd.concat([node_features_encoded['countrycode_encoded'], node_features_encoded['degree']],axis=1)"
   ]
  },
  {
   "cell_type": "code",
   "execution_count": 10,
   "metadata": {},
   "outputs": [],
   "source": [
    "userGraph_country_deg = StellarGraph.from_networkx(ig.to_networkx(), node_type_default = \"user\", edge_type_default = \"friendship\", node_features = country_degree)"
   ]
  },
  {
   "cell_type": "code",
   "execution_count": 11,
   "metadata": {},
   "outputs": [
    {
     "name": "stdout",
     "output_type": "stream",
     "text": [
      "StellarGraph: Undirected multigraph\n",
      " Nodes: 114324, Edges: 607333\n",
      "\n",
      " Node types:\n",
      "  user: [114324]\n",
      "    Features: float32 vector, length 2\n",
      "    Edge types: user-friendship->user\n",
      "\n",
      " Edge types:\n",
      "    user-friendship->user: [607333]\n",
      "        Weights: all 1 (default)\n",
      "        Features: none\n"
     ]
    }
   ],
   "source": [
    "print(userGraph_country_deg.info()) # 전체 그래프 load"
   ]
  },
  {
   "cell_type": "code",
   "execution_count": 12,
   "metadata": {},
   "outputs": [],
   "source": [
    "def graphsage_learning(edge_splitter_test,graph):\n",
    "    # Randomly sample a fraction p=0.1 of all positive links, and same number of negative links, from G, and obtain the\n",
    "    # reduced graph G_test with the sampled links removed:\n",
    "    G_test, edge_ids_test, edge_labels_test = edge_splitter_test.train_test_split(\n",
    "        p=0.1, method=\"global\", keep_connected=True\n",
    "    )\n",
    "\n",
    "    # Define an edge splitter on the reduced graph G_test:\n",
    "    edge_splitter_train = EdgeSplitter(G_test)\n",
    "\n",
    "    # Randomly sample a fraction p=0.1 of all positive links, and same number of negative links, from G_test, and obtain the\n",
    "    # reduced graph G_train with the sampled links removed:\n",
    "    G_train, edge_ids_train, edge_labels_train = edge_splitter_train.train_test_split(\n",
    "        p=0.1, method=\"global\", keep_connected=True\n",
    "    )\n",
    "\n",
    "    train_gen = GraphSAGELinkGenerator(G_train, batch_size, num_samples, weighted =True)\n",
    "    train_flow = train_gen.flow(edge_ids_train, edge_labels_train, shuffle=True)\n",
    "    test_gen = GraphSAGELinkGenerator(G_test, batch_size, num_samples, weighted =True)\n",
    "    test_flow = test_gen.flow(edge_ids_test, edge_labels_test)\n",
    "\n",
    "    graphsage = GraphSAGE(\n",
    "        layer_sizes=layer_sizes, generator=train_gen, bias=True, dropout=0.3\n",
    "    )\n",
    "\n",
    "    x_inp, x_out = graphsage.in_out_tensors()\n",
    "\n",
    "    prediction = link_classification(\n",
    "        output_dim=1, output_act=\"relu\", edge_embedding_method=\"ip\"\n",
    "    )(x_out)\n",
    "\n",
    "    model = keras.Model(inputs=x_inp, outputs=prediction)\n",
    "\n",
    "    model.compile(\n",
    "        optimizer=keras.optimizers.Adam(learning_rate=1e-3),\n",
    "        loss=keras.losses.binary_crossentropy,\n",
    "        metrics=[\"acc\"],\n",
    "    )\n",
    "\n",
    "    init_train_metrics = model.evaluate(train_flow)\n",
    "    init_test_metrics = model.evaluate(test_flow)\n",
    "\n",
    "    print(\"\\nTrain Set Metrics of the initial (untrained) model:\")\n",
    "    for name, val in zip(model.metrics_names, init_train_metrics):\n",
    "        print(\"\\t{}: {:0.4f}\".format(name, val))\n",
    "\n",
    "    print(\"\\nTest Set Metrics of the initial (untrained) model:\")\n",
    "    for name, val in zip(model.metrics_names, init_test_metrics):\n",
    "        print(\"\\t{}: {:0.4f}\".format(name, val))\n",
    "\n",
    "    print()\n",
    "    print(\"#################################################################################################################\")\n",
    "\n",
    "    history = model.fit(train_flow, epochs=10, validation_data=test_flow, verbose=2)\n",
    "    \n",
    "    import stellargraph as sg\n",
    "    sg.utils.plot_history(history)\n",
    "    with open('/trainHistoryDict', 'wb') as file_pi:\n",
    "        pickle.dump(history.history, file_pi)\n",
    "\n",
    "\n",
    "    print()\n",
    "    print(\"################################################################################################################\")\n",
    "\n",
    "    train_metrics = model.evaluate(train_flow)\n",
    "    test_metrics = model.evaluate(test_flow)\n",
    "\n",
    "    print(\"\\nTrain Set Metrics of the trained model:\")\n",
    "    for name, val in zip(model.metrics_names, train_metrics):\n",
    "        print(\"\\t{}: {:0.4f}\".format(name, val))\n",
    "\n",
    "    print(\"\\nTest Set Metrics of the trained model:\")\n",
    "    for name, val in zip(model.metrics_names, test_metrics):\n",
    "        print(\"\\t{}: {:0.4f}\".format(name, val))\n",
    "\n",
    "    x_inp_src = x_inp[0::2]\n",
    "    x_out_src = x_out[0]\n",
    "    embedding_model = keras.Model(inputs=x_inp_src, outputs=x_out_src)\n",
    "    \n",
    "    node_ids = graph.nodes()\n",
    "    node_gen = GraphSAGENodeGenerator(graph, batch_size, num_samples).flow(node_ids)\n",
    "    node_embeddings = embedding_model.predict(node_gen, workers=4, verbose=1)\n",
    "    \n",
    "    return node_embeddings\n"
   ]
  },
  {
   "cell_type": "code",
   "execution_count": 12,
   "metadata": {},
   "outputs": [
    {
     "data": {
      "text/plain": [
       "'# Baseline Experiment #\\nstart = time.time()\\nedge_splitter_test = EdgeSplitter(userGraph_country_deg)\\nbaseline_emb = graphsage_learning(edge_splitter_test,userGraph_country_deg)\\nprint(\"time :\", time.time() - start) '"
      ]
     },
     "execution_count": 12,
     "metadata": {},
     "output_type": "execute_result"
    }
   ],
   "source": [
    "'''# Baseline Experiment #\n",
    "start = time.time()\n",
    "edge_splitter_test = EdgeSplitter(userGraph_country_deg)\n",
    "baseline_emb = graphsage_learning(edge_splitter_test,userGraph_country_deg)\n",
    "print(\"time :\", time.time() - start) '''"
   ]
  },
  {
   "cell_type": "markdown",
   "metadata": {},
   "source": [
    "### 1. Community 단위로 RL 적용 (local RL) - 병렬 처리 가능"
   ]
  },
  {
   "cell_type": "code",
   "execution_count": 13,
   "metadata": {},
   "outputs": [],
   "source": [
    "LP = Graph.community_label_propagation(ig)"
   ]
  },
  {
   "cell_type": "code",
   "execution_count": 14,
   "metadata": {},
   "outputs": [],
   "source": [
    "cd_algo = LP"
   ]
  },
  {
   "cell_type": "code",
   "execution_count": 15,
   "metadata": {},
   "outputs": [],
   "source": [
    "size_thresh = 100"
   ]
  },
  {
   "cell_type": "code",
   "execution_count": 16,
   "metadata": {
    "scrolled": true
   },
   "outputs": [
    {
     "name": "stdout",
     "output_type": "stream",
     "text": [
      "100보다 작은 커뮤니티의 노드 수:  25173\n",
      "100보다 큰 커뮤니티 개수:  82\n",
      "Reduced graph 노드 수:  25255\n"
     ]
    }
   ],
   "source": [
    "minor_nodes_num = 0\n",
    "major_comm_num = 0\n",
    "for i in cd_algo:\n",
    "    if len(i)<=size_thresh: \n",
    "        minor_nodes_num += len(i)\n",
    "    else:\n",
    "        major_comm_num += 1\n",
    "print(\"100보다 작은 커뮤니티의 노드 수: \", minor_nodes_num)\n",
    "print(\"100보다 큰 커뮤니티 개수: \", major_comm_num)\n",
    "print(\"Reduced graph 노드 수: \",major_comm_num+minor_nodes_num)"
   ]
  },
  {
   "cell_type": "code",
   "execution_count": 17,
   "metadata": {},
   "outputs": [],
   "source": [
    "# GraphSAGE Hyper-parameter Settings\n",
    "batch_size = 20\n",
    "epochs = 10\n",
    "num_samples = [20, 10]\n",
    "layer_sizes = [50, 50]"
   ]
  },
  {
   "cell_type": "code",
   "execution_count": 18,
   "metadata": {},
   "outputs": [],
   "source": [
    "def subGraphSAGE(subgraphList):\n",
    "    subgraph = ig.induced_subgraph(subgraphList,implementation=\"create_from_scratch\")\n",
    "    \n",
    "    isin_filter = node_features_encoded['userID'].isin(subgraph.vs['id'])\n",
    "    \n",
    "    subgraph_features = node_features_encoded[isin_filter]\n",
    "    subgraph_country_degree = pd.concat([subgraph_features['countrycode_encoded'], subgraph_features['degree']],axis=1)\n",
    "    subgraph_country_degree.reset_index(drop=True,inplace=True)\n",
    "    \n",
    "    subgraph_ = StellarGraph.from_networkx(subgraph.to_networkx(), node_type_default = \"user\", edge_type_default = \"friendship\", node_features = subgraph_country_degree)\n",
    "   \n",
    "    subnodes = list(subgraph_.nodes())\n",
    "    sub_unsupervised_samples = UnsupervisedSampler(\n",
    "        subgraph_, nodes = subnodes, length=5, number_of_walks=1\n",
    "    )\n",
    "    \n",
    "    sub_generator = GraphSAGELinkGenerator(subgraph_, batch_size, num_samples)\n",
    "    sub_train_gen = sub_generator.flow(sub_unsupervised_samples)\n",
    "    \n",
    "    sub_graphsage = GraphSAGE(\n",
    "        layer_sizes = layer_sizes, generator=sub_generator, bias=True, dropout=0.0, normalize=\"l2\"\n",
    "    )\n",
    "    \n",
    "    x_inp, x_out = sub_graphsage.in_out_tensors()\n",
    "    x_inp_src = x_inp[0::2]\n",
    "    x_out_src = x_out[0]\n",
    "    sub_embedding_model = keras.Model(inputs = x_inp_src, outputs = x_out_src)\n",
    "    \n",
    "    sub_node_ids = subgraph_.nodes()\n",
    "    sub_node_gen = GraphSAGENodeGenerator(subgraph_, batch_size, num_samples).flow(sub_node_ids)\n",
    "    \n",
    "    sub_node_embeddings = sub_embedding_model.predict(sub_node_gen, workers=4, verbose=1)\n",
    "    \n",
    "    return sub_node_embeddings"
   ]
  },
  {
   "cell_type": "code",
   "execution_count": 19,
   "metadata": {},
   "outputs": [],
   "source": [
    "node_embeddings = defaultdict(lambda: np.zeros(dimensions)) # Initialization"
   ]
  },
  {
   "cell_type": "code",
   "execution_count": 21,
   "metadata": {
    "scrolled": false
   },
   "outputs": [
    {
     "name": "stdout",
     "output_type": "stream",
     "text": [
      "744/744 [==============================] - 29s 38ms/step\n",
      "14877\n",
      "87/87 [==============================] - 3s 33ms/step\n",
      "1733\n",
      "13/13 [==============================] - 1s 20ms/step\n",
      "258\n",
      "110/110 [==============================] - 4s 38ms/step\n",
      "2189\n",
      "48/48 [==============================] - 2s 38ms/step\n",
      "945\n",
      "21/21 [==============================] - 1s 36ms/step\n",
      "414\n",
      "208/208 [==============================] - 8s 37ms/step\n",
      "4158\n",
      "6/6 [==============================] - 0s 5ms/step\n",
      "116\n",
      "8/8 [==============================] - 0s 35ms/step\n",
      "146\n",
      "6/6 [==============================] - 0s 10ms/step\n",
      "102\n",
      "6/6 [==============================] - 0s 11ms/step\n",
      "101\n",
      "370/370 [==============================] - 16s 43ms/step\n",
      "7391\n",
      "354/354 [==============================] - 15s 42ms/step\n",
      "7066\n",
      "574/574 [==============================] - 21s 36ms/step\n",
      "11466\n",
      "41/41 [==============================] - 2s 34ms/step\n",
      "801\n",
      "7/7 [==============================] - 0s 4ms/step\n",
      "127\n",
      "13/13 [==============================] - 1s 32ms/step\n",
      "248\n",
      "39/39 [==============================] - 2s 35ms/step\n",
      "761\n",
      "8/8 [==============================] - 1s 13ms/step\n",
      "141\n",
      "40/40 [==============================] - 2s 37ms/step\n",
      "793\n",
      "7/7 [==============================] - 0s 40ms/step\n",
      "129\n",
      "18/18 [==============================] - 1s 32ms/step\n",
      "350\n",
      "278/278 [==============================] - 11s 37ms/step\n",
      "5541\n",
      "398/398 [==============================] - 17s 42ms/step\n",
      "7946\n",
      "9/9 [==============================] - 1s 15ms/step\n",
      "168\n",
      "23/23 [==============================] - 1s 23ms/step\n",
      "460\n",
      "11/11 [==============================] - 1s 9ms/step\n",
      "220\n",
      "6/6 [==============================] - 0s 8ms/step\n",
      "105\n",
      "24/24 [==============================] - 1s 33ms/step\n",
      "473\n",
      "35/35 [==============================] - 2s 39ms/step\n",
      "689\n",
      "34/34 [==============================] - 1s 32ms/step\n",
      "661\n",
      "8/8 [==============================] - 0s 38ms/step\n",
      "155\n",
      "85/85 [==============================] - 3s 37ms/step\n",
      "1686\n",
      "16/16 [==============================] - 1s 24ms/step\n",
      "319\n",
      "22/22 [==============================] - 1s 35ms/step\n",
      "431\n",
      "118/118 [==============================] - 5s 37ms/step\n",
      "2359\n",
      "17/17 [==============================] - 1s 12ms/step\n",
      "334\n",
      "23/23 [==============================] - 1s 29ms/step\n",
      "456\n",
      "85/85 [==============================] - 3s 38ms/step\n",
      "1689\n",
      "22/22 [==============================] - 1s 36ms/step\n",
      "428\n",
      "18/18 [==============================] - 1s 28ms/step\n",
      "347\n",
      "24/24 [==============================] - 1s 32ms/step\n",
      "464\n",
      "35/35 [==============================] - 2s 39ms/step\n",
      "681\n",
      "6/6 [==============================] - 0s 29ms/step\n",
      "106\n",
      "45/45 [==============================] - 2s 35ms/step\n",
      "884\n",
      "9/9 [==============================] - 1s 19ms/step\n",
      "177\n",
      "10/10 [==============================] - 0s 5ms/step\n",
      "182\n",
      "10/10 [==============================] - 1s 13ms/step\n",
      "191\n",
      "10/10 [==============================] - 1s 32ms/step\n",
      "190\n",
      "15/15 [==============================] - 1s 9ms/step\n",
      "281\n",
      "9/9 [==============================] - 0s 14ms/step\n",
      "179\n",
      "7/7 [==============================] - 1s 35ms/step\n",
      "136\n",
      "6/6 [==============================] - 0s 5ms/step\n",
      "113\n",
      "17/17 [==============================] - 1s 38ms/step\n",
      "322\n",
      "8/8 [==============================] - 1s 23ms/step\n",
      "145\n",
      "8/8 [==============================] - 1s 14ms/step\n",
      "142\n",
      "8/8 [==============================] - 1s 11ms/step\n",
      "149\n",
      "6/6 [==============================] - 0s 9ms/step\n",
      "108\n",
      "18/18 [==============================] - 1s 29ms/step\n",
      "353\n",
      "10/10 [==============================] - 1s 13ms/step\n",
      "198\n",
      "6/6 [==============================] - 0s 10ms/step\n",
      "115\n",
      "32/32 [==============================] - 1s 30ms/step\n",
      "622\n",
      "6/6 [==============================] - 0s 31ms/step\n",
      "105\n",
      "35/35 [==============================] - 1s 29ms/step\n",
      "683\n",
      "10/10 [==============================] - 1s 34ms/step\n",
      "184\n",
      "8/8 [==============================] - 0s 35ms/step\n",
      "147\n",
      "29/29 [==============================] - 1s 33ms/step\n",
      "572\n",
      "13/13 [==============================] - 1s 10ms/step\n",
      "255\n",
      "7/7 [==============================] - 0s 18ms/step\n",
      "137\n",
      "7/7 [==============================] - 0s 38ms/step\n",
      "121\n",
      "6/6 [==============================] - 0s 26ms/step\n",
      "105\n",
      "21/21 [==============================] - 1s 37ms/step\n",
      "417\n",
      "8/8 [==============================] - 0s 10ms/step\n",
      "149\n",
      "7/7 [==============================] - 0s 39ms/step\n",
      "132\n",
      "7/7 [==============================] - 1s 18ms/step\n",
      "123\n",
      "7/7 [==============================] - 0s 9ms/step\n",
      "135\n",
      "7/7 [==============================] - 1s 43ms/step\n",
      "139\n",
      "6/6 [==============================] - 0s 9ms/step\n",
      "103\n",
      "38/38 [==============================] - 2s 36ms/step\n",
      "742\n",
      "7/7 [==============================] - 0s 17ms/step\n",
      "127\n",
      "6/6 [==============================] - 0s 12ms/step\n",
      "106\n",
      "8/8 [==============================] - 0s 10ms/step\n",
      "152\n"
     ]
    },
    {
     "ename": "KeyboardInterrupt",
     "evalue": "",
     "output_type": "error",
     "traceback": [
      "\u001b[0;31m---------------------------------------------------------------------------\u001b[0m",
      "\u001b[0;31mKeyboardInterrupt\u001b[0m                         Traceback (most recent call last)",
      "\u001b[0;32m<ipython-input-21-472b11486559>\u001b[0m in \u001b[0;36m<module>\u001b[0;34m\u001b[0m\n\u001b[1;32m      2\u001b[0m \u001b[0;32mfor\u001b[0m \u001b[0mcommunity_no\u001b[0m \u001b[0;32min\u001b[0m \u001b[0mrange\u001b[0m\u001b[0;34m(\u001b[0m\u001b[0mlen\u001b[0m\u001b[0;34m(\u001b[0m\u001b[0mcd_algo\u001b[0m\u001b[0;34m)\u001b[0m\u001b[0;34m)\u001b[0m\u001b[0;34m:\u001b[0m\u001b[0;34m\u001b[0m\u001b[0;34m\u001b[0m\u001b[0m\n\u001b[1;32m      3\u001b[0m     \u001b[0;31m# Intra Community Embedding\u001b[0m\u001b[0;34m\u001b[0m\u001b[0;34m\u001b[0m\u001b[0;34m\u001b[0m\u001b[0m\n\u001b[0;32m----> 4\u001b[0;31m     \u001b[0;32mif\u001b[0m \u001b[0mlen\u001b[0m\u001b[0;34m(\u001b[0m\u001b[0mcd_algo\u001b[0m\u001b[0;34m[\u001b[0m\u001b[0mcommunity_no\u001b[0m\u001b[0;34m]\u001b[0m\u001b[0;34m)\u001b[0m \u001b[0;34m>=\u001b[0m \u001b[0msize_thresh\u001b[0m\u001b[0;34m:\u001b[0m\u001b[0;34m\u001b[0m\u001b[0;34m\u001b[0m\u001b[0m\n\u001b[0m\u001b[1;32m      5\u001b[0m         \u001b[0msub_node_embeddings\u001b[0m \u001b[0;34m=\u001b[0m \u001b[0msubGraphSAGE\u001b[0m\u001b[0;34m(\u001b[0m\u001b[0mcd_algo\u001b[0m\u001b[0;34m[\u001b[0m\u001b[0mcommunity_no\u001b[0m\u001b[0;34m]\u001b[0m\u001b[0;34m)\u001b[0m\u001b[0;34m\u001b[0m\u001b[0;34m\u001b[0m\u001b[0m\n\u001b[1;32m      6\u001b[0m         \u001b[0mprint\u001b[0m\u001b[0;34m(\u001b[0m\u001b[0mlen\u001b[0m\u001b[0;34m(\u001b[0m\u001b[0msub_node_embeddings\u001b[0m\u001b[0;34m)\u001b[0m\u001b[0;34m)\u001b[0m\u001b[0;34m\u001b[0m\u001b[0;34m\u001b[0m\u001b[0m\n",
      "\u001b[0;32m~/anaconda3/envs/jeongha/lib/python3.6/site-packages/igraph/clustering.py\u001b[0m in \u001b[0;36m__getitem__\u001b[0;34m(self, idx)\u001b[0m\n\u001b[1;32m     80\u001b[0m         \u001b[0;32mif\u001b[0m \u001b[0midx\u001b[0m \u001b[0;34m<\u001b[0m \u001b[0;36m0\u001b[0m \u001b[0;32mor\u001b[0m \u001b[0midx\u001b[0m \u001b[0;34m>=\u001b[0m \u001b[0mself\u001b[0m\u001b[0;34m.\u001b[0m\u001b[0m_len\u001b[0m\u001b[0;34m:\u001b[0m\u001b[0;34m\u001b[0m\u001b[0;34m\u001b[0m\u001b[0m\n\u001b[1;32m     81\u001b[0m             \u001b[0;32mraise\u001b[0m \u001b[0mIndexError\u001b[0m\u001b[0;34m(\u001b[0m\u001b[0;34m\"cluster index out of range\"\u001b[0m\u001b[0;34m)\u001b[0m\u001b[0;34m\u001b[0m\u001b[0;34m\u001b[0m\u001b[0m\n\u001b[0;32m---> 82\u001b[0;31m         \u001b[0;32mreturn\u001b[0m \u001b[0;34m[\u001b[0m\u001b[0mi\u001b[0m \u001b[0;32mfor\u001b[0m \u001b[0mi\u001b[0m\u001b[0;34m,\u001b[0m \u001b[0me\u001b[0m \u001b[0;32min\u001b[0m \u001b[0menumerate\u001b[0m\u001b[0;34m(\u001b[0m\u001b[0mself\u001b[0m\u001b[0;34m.\u001b[0m\u001b[0m_membership\u001b[0m\u001b[0;34m)\u001b[0m \u001b[0;32mif\u001b[0m \u001b[0me\u001b[0m \u001b[0;34m==\u001b[0m \u001b[0midx\u001b[0m\u001b[0;34m]\u001b[0m\u001b[0;34m\u001b[0m\u001b[0;34m\u001b[0m\u001b[0m\n\u001b[0m\u001b[1;32m     83\u001b[0m \u001b[0;34m\u001b[0m\u001b[0m\n\u001b[1;32m     84\u001b[0m     \u001b[0;32mdef\u001b[0m \u001b[0m__iter__\u001b[0m\u001b[0;34m(\u001b[0m\u001b[0mself\u001b[0m\u001b[0;34m)\u001b[0m\u001b[0;34m:\u001b[0m\u001b[0;34m\u001b[0m\u001b[0;34m\u001b[0m\u001b[0m\n",
      "\u001b[0;32m~/anaconda3/envs/jeongha/lib/python3.6/site-packages/igraph/clustering.py\u001b[0m in \u001b[0;36m<listcomp>\u001b[0;34m(.0)\u001b[0m\n\u001b[1;32m     80\u001b[0m         \u001b[0;32mif\u001b[0m \u001b[0midx\u001b[0m \u001b[0;34m<\u001b[0m \u001b[0;36m0\u001b[0m \u001b[0;32mor\u001b[0m \u001b[0midx\u001b[0m \u001b[0;34m>=\u001b[0m \u001b[0mself\u001b[0m\u001b[0;34m.\u001b[0m\u001b[0m_len\u001b[0m\u001b[0;34m:\u001b[0m\u001b[0;34m\u001b[0m\u001b[0;34m\u001b[0m\u001b[0m\n\u001b[1;32m     81\u001b[0m             \u001b[0;32mraise\u001b[0m \u001b[0mIndexError\u001b[0m\u001b[0;34m(\u001b[0m\u001b[0;34m\"cluster index out of range\"\u001b[0m\u001b[0;34m)\u001b[0m\u001b[0;34m\u001b[0m\u001b[0;34m\u001b[0m\u001b[0m\n\u001b[0;32m---> 82\u001b[0;31m         \u001b[0;32mreturn\u001b[0m \u001b[0;34m[\u001b[0m\u001b[0mi\u001b[0m \u001b[0;32mfor\u001b[0m \u001b[0mi\u001b[0m\u001b[0;34m,\u001b[0m \u001b[0me\u001b[0m \u001b[0;32min\u001b[0m \u001b[0menumerate\u001b[0m\u001b[0;34m(\u001b[0m\u001b[0mself\u001b[0m\u001b[0;34m.\u001b[0m\u001b[0m_membership\u001b[0m\u001b[0;34m)\u001b[0m \u001b[0;32mif\u001b[0m \u001b[0me\u001b[0m \u001b[0;34m==\u001b[0m \u001b[0midx\u001b[0m\u001b[0;34m]\u001b[0m\u001b[0;34m\u001b[0m\u001b[0;34m\u001b[0m\u001b[0m\n\u001b[0m\u001b[1;32m     83\u001b[0m \u001b[0;34m\u001b[0m\u001b[0m\n\u001b[1;32m     84\u001b[0m     \u001b[0;32mdef\u001b[0m \u001b[0m__iter__\u001b[0m\u001b[0;34m(\u001b[0m\u001b[0mself\u001b[0m\u001b[0;34m)\u001b[0m\u001b[0;34m:\u001b[0m\u001b[0;34m\u001b[0m\u001b[0;34m\u001b[0m\u001b[0m\n",
      "\u001b[0;31mKeyboardInterrupt\u001b[0m: "
     ]
    }
   ],
   "source": [
    "start = time.time()\n",
    "for community_no in range(len(cd_algo)):\n",
    "    # Intra Community Embedding \n",
    "    if len(cd_algo[community_no]) >= size_thresh:\n",
    "        sub_node_embeddings = subGraphSAGE(cd_algo[community_no])\n",
    "        print(len(sub_node_embeddings))\n",
    "        \n",
    "        # 전체 그래프에 대한 GraphSAGE에 의해 도출된 feature를 아예 덮어쓰는 것. \n",
    "        j=0\n",
    "        for i in cd_algo[community_no]:\n",
    "            node_embeddings[i] = sub_node_embeddings[j]\n",
    "            j += 1\n",
    "print(\"time(local) :\", time.time() - start) "
   ]
  },
  {
   "cell_type": "markdown",
   "metadata": {},
   "source": [
    "### Community는 하나의 node로 변환함으로써 축소된 Global graph 생성"
   ]
  },
  {
   "cell_type": "code",
   "execution_count": null,
   "metadata": {},
   "outputs": [],
   "source": [
    "membership = cd_algo.membership\n",
    "counter = Counter(membership).most_common()"
   ]
  },
  {
   "cell_type": "code",
   "execution_count": null,
   "metadata": {},
   "outputs": [],
   "source": [
    "minor_vertexID = []\n",
    "# community size 가 100보다 작으면 minor vertex ID list에 추가\n",
    "for c in counter:\n",
    "    if c[1]<size_thresh:\n",
    "        minor_vertexID.append(c[0])\n",
    "print(len(minor_vertexID))"
   ]
  },
  {
   "cell_type": "code",
   "execution_count": null,
   "metadata": {},
   "outputs": [],
   "source": [
    "# Minor community 인 애들은 노드 살려놔야하니까 membership 다시 부여하기\n",
    "new_id = len(cd_algo)\n",
    "for i in range(len(membership)):\n",
    "    if membership[i] in minor_vertexID:\n",
    "        membership[i] = new_id\n",
    "        new_id += 1"
   ]
  },
  {
   "cell_type": "code",
   "execution_count": null,
   "metadata": {},
   "outputs": [],
   "source": [
    "idx_map = {}\n",
    "n = 0\n",
    "for i in sorted(dict(Counter(membership))):\n",
    "    idx_map[i] = n\n",
    "    n+=1"
   ]
  },
  {
   "cell_type": "code",
   "execution_count": null,
   "metadata": {},
   "outputs": [],
   "source": [
    "# 인덱스 순서대로 초기화\n",
    "new_idx = 0\n",
    "for i in range(len(membership)):\n",
    "    membership[i] = idx_map[membership[i]]"
   ]
  },
  {
   "cell_type": "code",
   "execution_count": null,
   "metadata": {},
   "outputs": [],
   "source": [
    "ig.contract_vertices(membership, combine_attrs=\"first\") # mean이나 median으로 하면 node id까지 반영되서 isin에서 노드 수가 달라져서 실행이 안됨.. "
   ]
  },
  {
   "cell_type": "code",
   "execution_count": 58,
   "metadata": {},
   "outputs": [],
   "source": [
    "isin_filter = node_features_encoded['userID'].isin(ig.vs['_nx_name'])\n",
    "subgraph_features = node_features_encoded[isin_filter]"
   ]
  },
  {
   "cell_type": "code",
   "execution_count": 59,
   "metadata": {},
   "outputs": [],
   "source": [
    "subgraph_country_degree = pd.concat([subgraph_features['countrycode_encoded'], subgraph_features['degree']],axis=1)\n",
    "subgraph_country_degree.reset_index(drop=True,inplace=True)"
   ]
  },
  {
   "cell_type": "code",
   "execution_count": 60,
   "metadata": {},
   "outputs": [
    {
     "data": {
      "text/plain": [
       "25722"
      ]
     },
     "execution_count": 60,
     "metadata": {},
     "output_type": "execute_result"
    }
   ],
   "source": [
    "len(subgraph_country_degree)"
   ]
  },
  {
   "cell_type": "code",
   "execution_count": 61,
   "metadata": {},
   "outputs": [
    {
     "data": {
      "text/plain": [
       "25722"
      ]
     },
     "execution_count": 61,
     "metadata": {},
     "output_type": "execute_result"
    }
   ],
   "source": [
    "len(ig.to_networkx().nodes)"
   ]
  },
  {
   "cell_type": "markdown",
   "metadata": {},
   "source": [
    "### RL 적용 (global RL) - 기존 graph에 비해 연산 크게 축소"
   ]
  },
  {
   "cell_type": "code",
   "execution_count": 62,
   "metadata": {},
   "outputs": [
    {
     "name": "stdout",
     "output_type": "stream",
     "text": [
      "StellarGraph: Undirected multigraph\n",
      " Nodes: 25722, Edges: 607333\n",
      "\n",
      " Node types:\n",
      "  user: [25722]\n",
      "    Features: float32 vector, length 2\n",
      "    Edge types: user-friendship->user\n",
      "\n",
      " Edge types:\n",
      "    user-friendship->user: [607333]\n",
      "        Weights: all 1 (default)\n",
      "        Features: none\n"
     ]
    }
   ],
   "source": [
    "reduced_globalG = StellarGraph.from_networkx(ig.to_networkx(), node_type_default = \"user\", edge_type_default = \"friendship\", node_features = subgraph_country_degree)\n",
    "print(reduced_globalG.info()) # 전체 그래프 load"
   ]
  },
  {
   "cell_type": "code",
   "execution_count": 63,
   "metadata": {},
   "outputs": [
    {
     "name": "stdout",
     "output_type": "stream",
     "text": [
      "** Sampled 60733 positive and 60733 negative edges. **\n",
      "** Sampled 54660 positive and 54660 negative edges. **\n",
      "link_classification: using 'ip' method to combine node embeddings into edge embeddings\n",
      "5466/5466 [==============================] - 1082s 198ms/step - loss: 1.9515 - acc: 0.5008\n",
      "6074/6074 [==============================] - 1307s 215ms/step - loss: 1.9668 - acc: 0.5007\n",
      "\n",
      "Train Set Metrics of the initial (untrained) model:\n",
      "\tloss: 1.9515\n",
      "\tacc: 0.5008\n",
      "\n",
      "Test Set Metrics of the initial (untrained) model:\n",
      "\tloss: 1.9668\n",
      "\tacc: 0.5007\n",
      "\n",
      "#################################################################################################################\n",
      "Epoch 1/10\n",
      "5466/5466 - 2331s - loss: 0.5121 - acc: 0.7495 - val_loss: 0.5084 - val_acc: 0.7841\n",
      "Epoch 2/10\n",
      "5466/5466 - 2322s - loss: 0.4495 - acc: 0.7963 - val_loss: 0.4574 - val_acc: 0.8099\n",
      "Epoch 3/10\n",
      "5466/5466 - 2335s - loss: 0.4247 - acc: 0.8175 - val_loss: 0.4296 - val_acc: 0.8018\n",
      "Epoch 4/10\n",
      "5466/5466 - 2331s - loss: 0.3994 - acc: 0.8304 - val_loss: 0.4226 - val_acc: 0.8158\n",
      "Epoch 5/10\n",
      "5466/5466 - 2339s - loss: 0.3843 - acc: 0.8397 - val_loss: 0.4130 - val_acc: 0.8231\n",
      "Epoch 6/10\n",
      "5466/5466 - 2350s - loss: 0.3827 - acc: 0.8386 - val_loss: 0.4542 - val_acc: 0.8148\n",
      "Epoch 7/10\n",
      "5466/5466 - 2353s - loss: 0.3662 - acc: 0.8481 - val_loss: 0.3611 - val_acc: 0.8467\n",
      "Epoch 8/10\n",
      "5466/5466 - 2337s - loss: 0.3454 - acc: 0.8600 - val_loss: 0.3303 - val_acc: 0.8583\n",
      "Epoch 9/10\n",
      "5466/5466 - 2344s - loss: 0.4047 - acc: 0.8090 - val_loss: 0.3342 - val_acc: 0.8427\n",
      "Epoch 10/10\n",
      "5466/5466 - 2335s - loss: 0.3670 - acc: 0.8406 - val_loss: 0.3359 - val_acc: 0.8475\n",
      "\n",
      "################################################################################################################\n",
      "5466/5466 [==============================] - 1079s 197ms/step - loss: 0.3396 - acc: 0.8478\n",
      "6074/6074 [==============================] - 1301s 214ms/step - loss: 0.3380 - acc: 0.8461\n",
      "\n",
      "Train Set Metrics of the trained model:\n",
      "\tloss: 0.3396\n",
      "\tacc: 0.8478\n",
      "\n",
      "Test Set Metrics of the trained model:\n",
      "\tloss: 0.3380\n",
      "\tacc: 0.8461\n",
      "1287/1287 [==============================] - 48s 37ms/step\n",
      "Global GRL time : 28279.697470664978\n"
     ]
    },
    {
     "data": {
      "image/png": "[encoded data removed]",
      "text/plain": [
       "<Figure size 504x576 with 2 Axes>"
      ]
     },
     "metadata": {
      "needs_background": "light"
     },
     "output_type": "display_data"
    }
   ],
   "source": [
    "start = time.time()\n",
    "edge_splitter_test = EdgeSplitter(reduced_globalG)\n",
    "reudced_emb = graphsage_learning(edge_splitter_test,reduced_globalG)\n",
    "print(\"Global GRL time :\", time.time() - start)"
   ]
  },
  {
   "cell_type": "code",
   "execution_count": 64,
   "metadata": {},
   "outputs": [
    {
     "data": {
      "text/plain": [
       "25722"
      ]
     },
     "execution_count": 64,
     "metadata": {},
     "output_type": "execute_result"
    }
   ],
   "source": [
    "# MERGE Final Results\n",
    "j = 0\n",
    "for community_no in range(len(cd_algo)):\n",
    "    # Intra Community Embedding   \n",
    "    if len(cd_algo[community_no]) < size_thresh: # Minor community 에 대한 노드들은 global GRL에서 결과 가져오기\n",
    "        for i in cd_algo[community_no]:\n",
    "            node_embeddings[i] = reudced_emb[j]\n",
    "            j += 1\n",
    "    else: # reduced node는 하나로 변환\n",
    "        j += 1           \n",
    "j"
   ]
  },
  {
   "cell_type": "code",
   "execution_count": 65,
   "metadata": {},
   "outputs": [
    {
     "data": {
      "text/plain": [
       "114324"
      ]
     },
     "execution_count": 65,
     "metadata": {},
     "output_type": "execute_result"
    }
   ],
   "source": [
    "len(node_embeddings)"
   ]
  },
  {
   "cell_type": "code",
   "execution_count": 35,
   "metadata": {},
   "outputs": [
    {
     "data": {
      "text/plain": [
       "'\\nnode_embeddings + reudced_emb = node features 만들어서\\ngraph 생성 -> GraphSAGE Link prediction\\n* reudced_emb : 인덱스 보고 어떻게 전체 그래프 node feature랑 맞게 합칠지 고민해보기 \\n'"
      ]
     },
     "execution_count": 35,
     "metadata": {},
     "output_type": "execute_result"
    }
   ],
   "source": [
    "'''\n",
    "node_embeddings + reudced_emb = node features 만들어서\n",
    "graph 생성 -> GraphSAGE Link prediction\n",
    "* reudced_emb : 인덱스 보고 어떻게 전체 그래프 node feature랑 맞게 합칠지 고민해보기 \n",
    "'''"
   ]
  },
  {
   "cell_type": "markdown",
   "metadata": {},
   "source": [
    "### Downstream Task"
   ]
  },
  {
   "cell_type": "code",
   "execution_count": 66,
   "metadata": {},
   "outputs": [],
   "source": [
    "node_embeddings_df = pd.DataFrame(node_embeddings).transpose()"
   ]
  },
  {
   "cell_type": "code",
   "execution_count": 67,
   "metadata": {},
   "outputs": [
    {
     "data": {
      "text/html": [
       "<div>\n",
       "<style scoped>\n",
       "    .dataframe tbody tr th:only-of-type {\n",
       "        vertical-align: middle;\n",
       "    }\n",
       "\n",
       "    .dataframe tbody tr th {\n",
       "        vertical-align: top;\n",
       "    }\n",
       "\n",
       "    .dataframe thead th {\n",
       "        text-align: right;\n",
       "    }\n",
       "</style>\n",
       "<table border=\"1\" class=\"dataframe\">\n",
       "  <thead>\n",
       "    <tr style=\"text-align: right;\">\n",
       "      <th></th>\n",
       "      <th>0</th>\n",
       "      <th>1</th>\n",
       "      <th>2</th>\n",
       "      <th>3</th>\n",
       "      <th>4</th>\n",
       "      <th>5</th>\n",
       "      <th>6</th>\n",
       "      <th>7</th>\n",
       "      <th>8</th>\n",
       "      <th>9</th>\n",
       "      <th>...</th>\n",
       "      <th>40</th>\n",
       "      <th>41</th>\n",
       "      <th>42</th>\n",
       "      <th>43</th>\n",
       "      <th>44</th>\n",
       "      <th>45</th>\n",
       "      <th>46</th>\n",
       "      <th>47</th>\n",
       "      <th>48</th>\n",
       "      <th>49</th>\n",
       "    </tr>\n",
       "  </thead>\n",
       "  <tbody>\n",
       "    <tr>\n",
       "      <th>0</th>\n",
       "      <td>0.057778</td>\n",
       "      <td>0.046079</td>\n",
       "      <td>-0.010340</td>\n",
       "      <td>-0.004837</td>\n",
       "      <td>0.057117</td>\n",
       "      <td>0.202719</td>\n",
       "      <td>-0.121175</td>\n",
       "      <td>0.106275</td>\n",
       "      <td>0.060493</td>\n",
       "      <td>-0.085984</td>\n",
       "      <td>...</td>\n",
       "      <td>-0.194124</td>\n",
       "      <td>-0.100204</td>\n",
       "      <td>-0.391002</td>\n",
       "      <td>0.011303</td>\n",
       "      <td>0.247806</td>\n",
       "      <td>0.075538</td>\n",
       "      <td>0.003518</td>\n",
       "      <td>0.003709</td>\n",
       "      <td>0.163190</td>\n",
       "      <td>0.073000</td>\n",
       "    </tr>\n",
       "    <tr>\n",
       "      <th>1</th>\n",
       "      <td>0.070816</td>\n",
       "      <td>-0.050930</td>\n",
       "      <td>0.021478</td>\n",
       "      <td>-0.059246</td>\n",
       "      <td>0.072575</td>\n",
       "      <td>0.197167</td>\n",
       "      <td>-0.129543</td>\n",
       "      <td>0.066938</td>\n",
       "      <td>0.051237</td>\n",
       "      <td>-0.101927</td>\n",
       "      <td>...</td>\n",
       "      <td>-0.193578</td>\n",
       "      <td>-0.079410</td>\n",
       "      <td>-0.359469</td>\n",
       "      <td>0.010079</td>\n",
       "      <td>0.271591</td>\n",
       "      <td>0.132288</td>\n",
       "      <td>0.009367</td>\n",
       "      <td>0.016135</td>\n",
       "      <td>0.182541</td>\n",
       "      <td>0.082338</td>\n",
       "    </tr>\n",
       "    <tr>\n",
       "      <th>2</th>\n",
       "      <td>0.082630</td>\n",
       "      <td>0.053930</td>\n",
       "      <td>-0.026518</td>\n",
       "      <td>0.000330</td>\n",
       "      <td>0.035464</td>\n",
       "      <td>0.197917</td>\n",
       "      <td>-0.104299</td>\n",
       "      <td>0.115819</td>\n",
       "      <td>0.070591</td>\n",
       "      <td>-0.103364</td>\n",
       "      <td>...</td>\n",
       "      <td>-0.196641</td>\n",
       "      <td>-0.077319</td>\n",
       "      <td>-0.381830</td>\n",
       "      <td>0.002032</td>\n",
       "      <td>0.256920</td>\n",
       "      <td>0.091161</td>\n",
       "      <td>0.023162</td>\n",
       "      <td>-0.015112</td>\n",
       "      <td>0.175457</td>\n",
       "      <td>0.060558</td>\n",
       "    </tr>\n",
       "    <tr>\n",
       "      <th>3</th>\n",
       "      <td>0.075126</td>\n",
       "      <td>0.031178</td>\n",
       "      <td>-0.012940</td>\n",
       "      <td>-0.013213</td>\n",
       "      <td>0.049133</td>\n",
       "      <td>0.202211</td>\n",
       "      <td>-0.115493</td>\n",
       "      <td>0.105044</td>\n",
       "      <td>0.065109</td>\n",
       "      <td>-0.100167</td>\n",
       "      <td>...</td>\n",
       "      <td>-0.195443</td>\n",
       "      <td>-0.091133</td>\n",
       "      <td>-0.381731</td>\n",
       "      <td>0.009304</td>\n",
       "      <td>0.257792</td>\n",
       "      <td>0.097497</td>\n",
       "      <td>0.011655</td>\n",
       "      <td>-0.003984</td>\n",
       "      <td>0.170208</td>\n",
       "      <td>0.070475</td>\n",
       "    </tr>\n",
       "    <tr>\n",
       "      <th>4</th>\n",
       "      <td>0.068647</td>\n",
       "      <td>0.021315</td>\n",
       "      <td>-0.004027</td>\n",
       "      <td>-0.020244</td>\n",
       "      <td>0.061680</td>\n",
       "      <td>0.212278</td>\n",
       "      <td>-0.128207</td>\n",
       "      <td>0.102155</td>\n",
       "      <td>0.062817</td>\n",
       "      <td>-0.098142</td>\n",
       "      <td>...</td>\n",
       "      <td>-0.184648</td>\n",
       "      <td>-0.097418</td>\n",
       "      <td>-0.382592</td>\n",
       "      <td>0.010027</td>\n",
       "      <td>0.246008</td>\n",
       "      <td>0.097030</td>\n",
       "      <td>-0.014007</td>\n",
       "      <td>0.001092</td>\n",
       "      <td>0.148819</td>\n",
       "      <td>0.077259</td>\n",
       "    </tr>\n",
       "    <tr>\n",
       "      <th>...</th>\n",
       "      <td>...</td>\n",
       "      <td>...</td>\n",
       "      <td>...</td>\n",
       "      <td>...</td>\n",
       "      <td>...</td>\n",
       "      <td>...</td>\n",
       "      <td>...</td>\n",
       "      <td>...</td>\n",
       "      <td>...</td>\n",
       "      <td>...</td>\n",
       "      <td>...</td>\n",
       "      <td>...</td>\n",
       "      <td>...</td>\n",
       "      <td>...</td>\n",
       "      <td>...</td>\n",
       "      <td>...</td>\n",
       "      <td>...</td>\n",
       "      <td>...</td>\n",
       "      <td>...</td>\n",
       "      <td>...</td>\n",
       "      <td>...</td>\n",
       "    </tr>\n",
       "    <tr>\n",
       "      <th>114314</th>\n",
       "      <td>0.081989</td>\n",
       "      <td>-0.161314</td>\n",
       "      <td>0.034425</td>\n",
       "      <td>-0.030347</td>\n",
       "      <td>0.024295</td>\n",
       "      <td>-0.105273</td>\n",
       "      <td>0.011098</td>\n",
       "      <td>0.000107</td>\n",
       "      <td>0.077911</td>\n",
       "      <td>-0.062624</td>\n",
       "      <td>...</td>\n",
       "      <td>0.429103</td>\n",
       "      <td>-0.268716</td>\n",
       "      <td>0.097612</td>\n",
       "      <td>0.167885</td>\n",
       "      <td>0.138646</td>\n",
       "      <td>-0.262580</td>\n",
       "      <td>-0.356906</td>\n",
       "      <td>-0.143936</td>\n",
       "      <td>-0.069616</td>\n",
       "      <td>-0.034607</td>\n",
       "    </tr>\n",
       "    <tr>\n",
       "      <th>114315</th>\n",
       "      <td>0.081989</td>\n",
       "      <td>-0.161314</td>\n",
       "      <td>0.034425</td>\n",
       "      <td>-0.030347</td>\n",
       "      <td>0.024295</td>\n",
       "      <td>-0.105273</td>\n",
       "      <td>0.011098</td>\n",
       "      <td>0.000107</td>\n",
       "      <td>0.077911</td>\n",
       "      <td>-0.062624</td>\n",
       "      <td>...</td>\n",
       "      <td>0.429103</td>\n",
       "      <td>-0.268716</td>\n",
       "      <td>0.097612</td>\n",
       "      <td>0.167885</td>\n",
       "      <td>0.138646</td>\n",
       "      <td>-0.262580</td>\n",
       "      <td>-0.356906</td>\n",
       "      <td>-0.143936</td>\n",
       "      <td>-0.069616</td>\n",
       "      <td>-0.034607</td>\n",
       "    </tr>\n",
       "    <tr>\n",
       "      <th>114316</th>\n",
       "      <td>0.081989</td>\n",
       "      <td>-0.161314</td>\n",
       "      <td>0.034425</td>\n",
       "      <td>-0.030347</td>\n",
       "      <td>0.024295</td>\n",
       "      <td>-0.105273</td>\n",
       "      <td>0.011098</td>\n",
       "      <td>0.000107</td>\n",
       "      <td>0.077911</td>\n",
       "      <td>-0.062624</td>\n",
       "      <td>...</td>\n",
       "      <td>0.429103</td>\n",
       "      <td>-0.268716</td>\n",
       "      <td>0.097612</td>\n",
       "      <td>0.167885</td>\n",
       "      <td>0.138646</td>\n",
       "      <td>-0.262580</td>\n",
       "      <td>-0.356906</td>\n",
       "      <td>-0.143936</td>\n",
       "      <td>-0.069616</td>\n",
       "      <td>-0.034607</td>\n",
       "    </tr>\n",
       "    <tr>\n",
       "      <th>114321</th>\n",
       "      <td>0.102317</td>\n",
       "      <td>-0.123077</td>\n",
       "      <td>0.024957</td>\n",
       "      <td>-0.008173</td>\n",
       "      <td>0.038960</td>\n",
       "      <td>-0.090908</td>\n",
       "      <td>0.018965</td>\n",
       "      <td>0.007755</td>\n",
       "      <td>0.047456</td>\n",
       "      <td>-0.070038</td>\n",
       "      <td>...</td>\n",
       "      <td>0.375758</td>\n",
       "      <td>-0.189835</td>\n",
       "      <td>0.008301</td>\n",
       "      <td>0.085319</td>\n",
       "      <td>0.140151</td>\n",
       "      <td>-0.230194</td>\n",
       "      <td>-0.258755</td>\n",
       "      <td>-0.272882</td>\n",
       "      <td>-0.020238</td>\n",
       "      <td>-0.037737</td>\n",
       "    </tr>\n",
       "    <tr>\n",
       "      <th>114322</th>\n",
       "      <td>0.102317</td>\n",
       "      <td>-0.123077</td>\n",
       "      <td>0.024957</td>\n",
       "      <td>-0.008173</td>\n",
       "      <td>0.038960</td>\n",
       "      <td>-0.090908</td>\n",
       "      <td>0.018965</td>\n",
       "      <td>0.007755</td>\n",
       "      <td>0.047456</td>\n",
       "      <td>-0.070038</td>\n",
       "      <td>...</td>\n",
       "      <td>0.375758</td>\n",
       "      <td>-0.189835</td>\n",
       "      <td>0.008301</td>\n",
       "      <td>0.085319</td>\n",
       "      <td>0.140151</td>\n",
       "      <td>-0.230194</td>\n",
       "      <td>-0.258755</td>\n",
       "      <td>-0.272882</td>\n",
       "      <td>-0.020238</td>\n",
       "      <td>-0.037737</td>\n",
       "    </tr>\n",
       "  </tbody>\n",
       "</table>\n",
       "<p>114324 rows × 50 columns</p>\n",
       "</div>"
      ],
      "text/plain": [
       "              0         1         2         3         4         5         6   \\\n",
       "0       0.057778  0.046079 -0.010340 -0.004837  0.057117  0.202719 -0.121175   \n",
       "1       0.070816 -0.050930  0.021478 -0.059246  0.072575  0.197167 -0.129543   \n",
       "2       0.082630  0.053930 -0.026518  0.000330  0.035464  0.197917 -0.104299   \n",
       "3       0.075126  0.031178 -0.012940 -0.013213  0.049133  0.202211 -0.115493   \n",
       "4       0.068647  0.021315 -0.004027 -0.020244  0.061680  0.212278 -0.128207   \n",
       "...          ...       ...       ...       ...       ...       ...       ...   \n",
       "114314  0.081989 -0.161314  0.034425 -0.030347  0.024295 -0.105273  0.011098   \n",
       "114315  0.081989 -0.161314  0.034425 -0.030347  0.024295 -0.105273  0.011098   \n",
       "114316  0.081989 -0.161314  0.034425 -0.030347  0.024295 -0.105273  0.011098   \n",
       "114321  0.102317 -0.123077  0.024957 -0.008173  0.038960 -0.090908  0.018965   \n",
       "114322  0.102317 -0.123077  0.024957 -0.008173  0.038960 -0.090908  0.018965   \n",
       "\n",
       "              7         8         9   ...        40        41        42  \\\n",
       "0       0.106275  0.060493 -0.085984  ... -0.194124 -0.100204 -0.391002   \n",
       "1       0.066938  0.051237 -0.101927  ... -0.193578 -0.079410 -0.359469   \n",
       "2       0.115819  0.070591 -0.103364  ... -0.196641 -0.077319 -0.381830   \n",
       "3       0.105044  0.065109 -0.100167  ... -0.195443 -0.091133 -0.381731   \n",
       "4       0.102155  0.062817 -0.098142  ... -0.184648 -0.097418 -0.382592   \n",
       "...          ...       ...       ...  ...       ...       ...       ...   \n",
       "114314  0.000107  0.077911 -0.062624  ...  0.429103 -0.268716  0.097612   \n",
       "114315  0.000107  0.077911 -0.062624  ...  0.429103 -0.268716  0.097612   \n",
       "114316  0.000107  0.077911 -0.062624  ...  0.429103 -0.268716  0.097612   \n",
       "114321  0.007755  0.047456 -0.070038  ...  0.375758 -0.189835  0.008301   \n",
       "114322  0.007755  0.047456 -0.070038  ...  0.375758 -0.189835  0.008301   \n",
       "\n",
       "              43        44        45        46        47        48        49  \n",
       "0       0.011303  0.247806  0.075538  0.003518  0.003709  0.163190  0.073000  \n",
       "1       0.010079  0.271591  0.132288  0.009367  0.016135  0.182541  0.082338  \n",
       "2       0.002032  0.256920  0.091161  0.023162 -0.015112  0.175457  0.060558  \n",
       "3       0.009304  0.257792  0.097497  0.011655 -0.003984  0.170208  0.070475  \n",
       "4       0.010027  0.246008  0.097030 -0.014007  0.001092  0.148819  0.077259  \n",
       "...          ...       ...       ...       ...       ...       ...       ...  \n",
       "114314  0.167885  0.138646 -0.262580 -0.356906 -0.143936 -0.069616 -0.034607  \n",
       "114315  0.167885  0.138646 -0.262580 -0.356906 -0.143936 -0.069616 -0.034607  \n",
       "114316  0.167885  0.138646 -0.262580 -0.356906 -0.143936 -0.069616 -0.034607  \n",
       "114321  0.085319  0.140151 -0.230194 -0.258755 -0.272882 -0.020238 -0.037737  \n",
       "114322  0.085319  0.140151 -0.230194 -0.258755 -0.272882 -0.020238 -0.037737  \n",
       "\n",
       "[114324 rows x 50 columns]"
      ]
     },
     "execution_count": 67,
     "metadata": {},
     "output_type": "execute_result"
    }
   ],
   "source": [
    "node_embeddings_df"
   ]
  },
  {
   "cell_type": "code",
   "execution_count": 68,
   "metadata": {},
   "outputs": [],
   "source": [
    "ig = Graph.from_networkx(g) # NetworkX to igraph \n",
    "ig.vs[\"id\"] = ig.vs[\"_nx_name\"]\n",
    "ig.es[\"weight\"] = [defaultVal]*ig.ecount()"
   ]
  },
  {
   "cell_type": "code",
   "execution_count": 69,
   "metadata": {},
   "outputs": [],
   "source": [
    "merged_Graph = StellarGraph.from_networkx(ig.to_networkx(), node_type_default = \"user\", edge_type_default = \"friendship\", node_features = node_embeddings_df)"
   ]
  },
  {
   "cell_type": "code",
   "execution_count": 70,
   "metadata": {
    "scrolled": false
   },
   "outputs": [
    {
     "name": "stdout",
     "output_type": "stream",
     "text": [
      "** Sampled 60733 positive and 60733 negative edges. **\n",
      "** Sampled 54660 positive and 54660 negative edges. **\n",
      "link_classification: using 'ip' method to combine node embeddings into edge embeddings\n",
      "5466/5466 [==============================] - 268s 49ms/step - loss: 0.4362 - acc: 0.8029\n",
      "6074/6074 [==============================] - 300s 49ms/step - loss: 0.4359 - acc: 0.8032\n",
      "\n",
      "Train Set Metrics of the initial (untrained) model:\n",
      "\tloss: 0.4362\n",
      "\tacc: 0.8029\n",
      "\n",
      "Test Set Metrics of the initial (untrained) model:\n",
      "\tloss: 0.4359\n",
      "\tacc: 0.8032\n",
      "\n",
      "#################################################################################################################\n",
      "Epoch 1/10\n",
      "5466/5466 - 514s - loss: 0.2744 - acc: 0.9191 - val_loss: 0.2406 - val_acc: 0.9348\n",
      "Epoch 2/10\n",
      "5466/5466 - 515s - loss: 0.2135 - acc: 0.9361 - val_loss: 0.2058 - val_acc: 0.9443\n",
      "Epoch 3/10\n",
      "5466/5466 - 514s - loss: 0.1835 - acc: 0.9433 - val_loss: 0.1947 - val_acc: 0.9442\n",
      "Epoch 4/10\n",
      "5466/5466 - 513s - loss: 0.1722 - acc: 0.9462 - val_loss: 0.1762 - val_acc: 0.9507\n",
      "Epoch 5/10\n",
      "5466/5466 - 513s - loss: 0.1645 - acc: 0.9485 - val_loss: 0.1754 - val_acc: 0.9488\n",
      "Epoch 6/10\n",
      "5466/5466 - 514s - loss: 0.1629 - acc: 0.9477 - val_loss: 0.1736 - val_acc: 0.9482\n",
      "Epoch 7/10\n",
      "5466/5466 - 515s - loss: 0.1573 - acc: 0.9504 - val_loss: 0.1613 - val_acc: 0.9532\n",
      "Epoch 8/10\n",
      "5466/5466 - 511s - loss: 0.1571 - acc: 0.9494 - val_loss: 0.1643 - val_acc: 0.9525\n",
      "Epoch 9/10\n",
      "5466/5466 - 514s - loss: 0.1546 - acc: 0.9509 - val_loss: 0.1626 - val_acc: 0.9524\n",
      "Epoch 10/10\n",
      "5466/5466 - 513s - loss: 0.1498 - acc: 0.9531 - val_loss: 0.1584 - val_acc: 0.9543\n",
      "\n",
      "################################################################################################################\n",
      "5466/5466 [==============================] - 265s 49ms/step - loss: 0.1569 - acc: 0.9535\n",
      "6074/6074 [==============================] - 297s 49ms/step - loss: 0.1592 - acc: 0.9544\n",
      "\n",
      "Train Set Metrics of the trained model:\n",
      "\tloss: 0.1569\n",
      "\tacc: 0.9535\n",
      "\n",
      "Test Set Metrics of the trained model:\n",
      "\tloss: 0.1592\n",
      "\tacc: 0.9544\n",
      "5717/5717 [==============================] - 191s 33ms/step\n",
      "time(global) : 6570.3248155117035\n"
     ]
    },
    {
     "data": {
      "image/png": "[encoded data removed]",
      "text/plain": [
       "<Figure size 504x576 with 2 Axes>"
      ]
     },
     "metadata": {
      "needs_background": "light"
     },
     "output_type": "display_data"
    }
   ],
   "source": [
    "start = time.time()\n",
    "edge_splitter_test = EdgeSplitter(merged_Graph)\n",
    "graphsage_learning(edge_splitter_test, merged_Graph)\n",
    "print(\"time(global) :\", time.time() - start) "
   ]
  },
  {
   "cell_type": "code",
   "execution_count": 71,
   "metadata": {},
   "outputs": [
    {
     "data": {
      "text/plain": [
       "igraph.Vertex(<igraph.Graph object at 0x7fda593527c8>, 1, {'_nx_name': 595326, 'id': 595326})"
      ]
     },
     "execution_count": 71,
     "metadata": {},
     "output_type": "execute_result"
    }
   ],
   "source": []
  },
  {
   "cell_type": "code",
   "execution_count": null,
   "metadata": {},
   "outputs": [],
   "source": []
  }
 ],
 "metadata": {
  "kernelspec": {
   "display_name": "py36",
   "language": "python",
   "name": "jeongha"
  },
  "language_info": {
   "codemirror_mode": {
    "name": "ipython",
    "version": 3
   },
   "file_extension": ".py",
   "mimetype": "text/x-python",
   "name": "python",
   "nbconvert_exporter": "python",
   "pygments_lexer": "ipython3",
   "version": "3.6.13"
  }
 },
 "nbformat": 4,
 "nbformat_minor": 2
}
