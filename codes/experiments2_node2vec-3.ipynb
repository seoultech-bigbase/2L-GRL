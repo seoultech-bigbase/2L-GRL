{
 "cells": [
  {
   "cell_type": "markdown",
   "metadata": {},
   "source": [
    "3) community + node: Major community에 대해 Local GRL 수행 + Reduced Graph에 대해 Global GRL 수행 후 임베딩 통합\n",
    "\n",
    "=> 정확도 1)에 근접, 병렬처리 가능(처리속도 상)\n",
    "* Parallel Local GRL for Major + Global Reduced GRL for Minor 수행 시간 측정"
   ]
  },
  {
   "cell_type": "code",
   "execution_count": 1,
   "metadata": {},
   "outputs": [],
   "source": [
    "import pandas as pd\n",
    "import numpy as np\n",
    "from igraph import Graph\n",
    "import igraph\n",
    "import matplotlib.pyplot as plt\n",
    "import networkx as nx\n",
    "from collections import Counter\n",
    "from stellargraph import StellarGraph, datasets\n",
    "from stellargraph.data import EdgeSplitter, BiasedRandomWalk, UnsupervisedSampler, UniformRandomWalk\n",
    "from stellargraph.mapper import GraphSAGELinkGenerator\n",
    "from stellargraph.layer import GraphSAGE, link_classification\n",
    "from tensorflow import keras\n",
    "import multiprocessing as mp\n",
    "from multiprocessing import Pool\n",
    "import pickle\n",
    "import time\n",
    "from collections import defaultdict\n",
    "from gensim.models import Word2Vec\n",
    "from sklearn.decomposition import PCA\n",
    "from sklearn.model_selection import train_test_split\n",
    "from sklearn.pipeline import Pipeline\n",
    "from sklearn.linear_model import LogisticRegressionCV\n",
    "from sklearn.metrics import roc_auc_score\n",
    "from sklearn.preprocessing import StandardScaler"
   ]
  },
  {
   "cell_type": "code",
   "execution_count": 2,
   "metadata": {},
   "outputs": [
    {
     "data": {
      "text/plain": [
       "20"
      ]
     },
     "execution_count": 2,
     "metadata": {},
     "output_type": "execute_result"
    }
   ],
   "source": [
    "mp.cpu_count()"
   ]
  },
  {
   "cell_type": "code",
   "execution_count": 2,
   "metadata": {},
   "outputs": [],
   "source": [
    "# Edge between two user node (607,333 friendships)\n",
    "file = '/home/jhpark/dataset_WWW2019/dataset_WWW2019/dataset_WWW_friendship_new.txt'\n",
    "g = nx.read_edgelist(file , nodetype = int, edgetype='Freindship')"
   ]
  },
  {
   "cell_type": "code",
   "execution_count": 3,
   "metadata": {},
   "outputs": [],
   "source": [
    "ig = Graph.from_networkx(g) # NetworkX to igraph \n",
    "ig.vs[\"id\"] = ig.vs[\"_nx_name\"]\n",
    "ig.es[\"weight\"] = [1.0]*ig.ecount()"
   ]
  },
  {
   "cell_type": "code",
   "execution_count": 4,
   "metadata": {},
   "outputs": [],
   "source": [
    "node_features_encoded = pd.read_csv(\"/home/jhpark/dataset_WWW2019/node_features_encoded.csv\", index_col=0)\n",
    "country_degree = pd.concat([node_features_encoded['countrycode_encoded'], node_features_encoded['degree']],axis=1)"
   ]
  },
  {
   "cell_type": "code",
   "execution_count": 5,
   "metadata": {},
   "outputs": [
    {
     "name": "stdout",
     "output_type": "stream",
     "text": [
      "StellarGraph: Undirected multigraph\n",
      " Nodes: 114324, Edges: 607333\n",
      "\n",
      " Node types:\n",
      "  user: [114324]\n",
      "    Features: float32 vector, length 2\n",
      "    Edge types: user-friendship->user\n",
      "\n",
      " Edge types:\n",
      "    user-friendship->user: [607333]\n",
      "        Weights: all 1 (default)\n",
      "        Features: none\n"
     ]
    }
   ],
   "source": [
    "userGraph_country_deg = StellarGraph.from_networkx(ig.to_networkx(), node_type_default = \"user\", edge_type_default = \"friendship\", node_features = country_degree)\n",
    "print(userGraph_country_deg.info()) # 전체 그래프 load"
   ]
  },
  {
   "cell_type": "markdown",
   "metadata": {},
   "source": [
    "### 1. Community 단위로 RL 적용 (local RL) - 병렬 처리 가능"
   ]
  },
  {
   "cell_type": "code",
   "execution_count": 6,
   "metadata": {},
   "outputs": [],
   "source": [
    "LP = Graph.community_label_propagation(ig) # 커뮤니티 디텍션"
   ]
  },
  {
   "cell_type": "code",
   "execution_count": 7,
   "metadata": {},
   "outputs": [
    {
     "data": {
      "text/plain": [
       "'Clustering with 114324 elements and 3926 clusters'"
      ]
     },
     "execution_count": 7,
     "metadata": {},
     "output_type": "execute_result"
    }
   ],
   "source": [
    "LP.summary()"
   ]
  },
  {
   "cell_type": "code",
   "execution_count": 9,
   "metadata": {},
   "outputs": [
    {
     "name": "stdout",
     "output_type": "stream",
     "text": [
      "100보다 작은 커뮤니티의 노드 수:  25111\n",
      "100보다 큰 커뮤니티 개수:  83\n",
      "Reduced graph 노드 수:  25194\n"
     ]
    }
   ],
   "source": [
    "minor_nodes_num = 0\n",
    "major_comm_num = 0\n",
    "for i in LP:\n",
    "    if len(i)<100: \n",
    "        minor_nodes_num += len(i)\n",
    "    else:\n",
    "        major_comm_num += 1\n",
    "print(\"100보다 작은 커뮤니티의 노드 수: \", minor_nodes_num)\n",
    "print(\"100보다 큰 커뮤니티 개수: \", major_comm_num)\n",
    "print(\"Reduced graph 노드 수: \",major_comm_num+minor_nodes_num)"
   ]
  },
  {
   "cell_type": "code",
   "execution_count": 19,
   "metadata": {},
   "outputs": [],
   "source": [
    "minor_nodes_num = 0\n",
    "major_comm_num = 0\n",
    "for i in LP:\n",
    "    if len(i)<100: \n",
    "        minor_nodes_num += len(i)"
   ]
  },
  {
   "cell_type": "code",
   "execution_count": 20,
   "metadata": {},
   "outputs": [
    {
     "data": {
      "text/plain": [
       "25111"
      ]
     },
     "execution_count": 20,
     "metadata": {},
     "output_type": "execute_result"
    }
   ],
   "source": [
    "minor_nodes_num"
   ]
  },
  {
   "cell_type": "code",
   "execution_count": 21,
   "metadata": {},
   "outputs": [
    {
     "data": {
      "text/plain": [
       "89213"
      ]
     },
     "execution_count": 21,
     "metadata": {},
     "output_type": "execute_result"
    }
   ],
   "source": [
    "major_nodes_num = 0\n",
    "for i in LP:\n",
    "    if len(i)>=100: \n",
    "        major_nodes_num += len(i)\n",
    "major_nodes_num"
   ]
  },
  {
   "cell_type": "code",
   "execution_count": 8,
   "metadata": {},
   "outputs": [],
   "source": [
    "# Node2Vec Hyper-parameter Settings\n",
    "p = 1.0 # p가 낮을 수록 좁은 지역을 보고 q가 낮을수록 넓은 지역을 봅니다.\n",
    "q = 1.0\n",
    "dimensions = 256\n",
    "num_walks = 10\n",
    "walk_length = 80\n",
    "window_size = 10\n",
    "num_iter = 1\n",
    "workers = mp.cpu_count()"
   ]
  },
  {
   "cell_type": "code",
   "execution_count": 9,
   "metadata": {},
   "outputs": [],
   "source": [
    "def sub_Node2Vec(subgraphList):\n",
    "    if len(subgraphList) < 100:\n",
    "        return None\n",
    "    \n",
    "    subgraph = ig.induced_subgraph(subgraphList,implementation=\"create_from_scratch\")\n",
    "    isin_filter = node_features_encoded['userID'].isin(subgraph.vs['id'])\n",
    "    \n",
    "    subgraph_features = node_features_encoded[isin_filter]\n",
    "    subgraph_country_degree = pd.concat([subgraph_features['countrycode_encoded'], subgraph_features['degree']],axis=1)\n",
    "    subgraph_country_degree.reset_index(drop=True,inplace=True)\n",
    "    \n",
    "    subgraph_ = StellarGraph.from_networkx(subgraph.to_networkx(), node_type_default = \"user\", edge_type_default = \"friendship\", node_features = subgraph_country_degree)\n",
    "  #  print(\"Node개수: \",len(subgraph_.nodes()))\n",
    "    \n",
    "    #########################################################################\n",
    "    rw = BiasedRandomWalk(subgraph_)\n",
    "    walks = rw.run(subgraph_.nodes(), n=num_walks, length=walk_length, p=p, q=q)\n",
    "\n",
    "    model = Word2Vec(\n",
    "        walks,\n",
    "        vector_size =dimensions,\n",
    "        window=window_size,\n",
    "        min_count=0,\n",
    "        sg=1,\n",
    "        workers=workers,\n",
    "        epochs=num_iter,\n",
    "    )\n",
    "\n",
    "    return model.wv"
   ]
  },
  {
   "cell_type": "code",
   "execution_count": 10,
   "metadata": {},
   "outputs": [],
   "source": [
    "node_embeddings = defaultdict(lambda: np.zeros(dimensions)) # Initialization"
   ]
  },
  {
   "cell_type": "code",
   "execution_count": null,
   "metadata": {},
   "outputs": [],
   "source": [
    "num_cores = mp.cpu_count()"
   ]
  },
  {
   "cell_type": "code",
   "execution_count": 15,
   "metadata": {},
   "outputs": [
    {
     "name": "stdout",
     "output_type": "stream",
     "text": [
      "@@@ Major Community Local GRL time : -5791.719123125076  @@@\n"
     ]
    }
   ],
   "source": [
    "pool_obj = mp.Pool(1)\n",
    "start = time.time()\n",
    "sub_node_embeddings_list = pool_obj.map(sub_Node2Vec, list(LP))\n",
    "localGRL_time = start - time.time()\n",
    "print(\"@@@ Major Community Local GRL time :\", localGRL_time,\" @@@\")"
   ]
  },
  {
   "cell_type": "code",
   "execution_count": 12,
   "metadata": {},
   "outputs": [
    {
     "name": "stdout",
     "output_type": "stream",
     "text": [
      "@@@ Major Community Local GRL time : -5458.427658319473  @@@\n"
     ]
    }
   ],
   "source": [
    "pool_obj = mp.Pool(5)\n",
    "start = time.time()\n",
    "sub_node_embeddings_list = pool_obj.map(sub_Node2Vec, list(LP))\n",
    "localGRL_time = start - time.time()\n",
    "print(\"@@@ Major Community Local GRL time :\", localGRL_time,\" @@@\")"
   ]
  },
  {
   "cell_type": "code",
   "execution_count": 13,
   "metadata": {},
   "outputs": [
    {
     "name": "stdout",
     "output_type": "stream",
     "text": [
      "@@@ Major Community Local GRL time : -5289.56650519371  @@@\n"
     ]
    }
   ],
   "source": [
    "pool_obj = mp.Pool(10)\n",
    "start = time.time()\n",
    "sub_node_embeddings_list = pool_obj.map(sub_Node2Vec, list(LP))\n",
    "localGRL_time = start - time.time()\n",
    "print(\"@@@ Major Community Local GRL time :\", localGRL_time,\" @@@\")"
   ]
  },
  {
   "cell_type": "code",
   "execution_count": 14,
   "metadata": {},
   "outputs": [
    {
     "name": "stdout",
     "output_type": "stream",
     "text": [
      "@@@ Major Community Local GRL time : -5042.414897203445  @@@\n"
     ]
    }
   ],
   "source": [
    "pool_obj = mp.Pool(15)\n",
    "start = time.time()\n",
    "sub_node_embeddings_list = pool_obj.map(sub_Node2Vec, list(LP))\n",
    "localGRL_time = start - time.time()\n",
    "print(\"@@@ Major Community Local GRL time :\", localGRL_time,\" @@@\")"
   ]
  },
  {
   "cell_type": "code",
   "execution_count": 16,
   "metadata": {},
   "outputs": [
    {
     "name": "stdout",
     "output_type": "stream",
     "text": [
      "@@@ Major Community Local GRL time : -4659.359943151474  @@@\n"
     ]
    }
   ],
   "source": [
    "pool_obj = mp.Pool(20)\n",
    "start = time.time()\n",
    "sub_node_embeddings_list = pool_obj.map(sub_Node2Vec, list(LP))\n",
    "localGRL_time = start - time.time()\n",
    "print(\"@@@ Major Community Local GRL time :\", localGRL_time,\" @@@\")"
   ]
  },
  {
   "cell_type": "code",
   "execution_count": 17,
   "metadata": {},
   "outputs": [
    {
     "ename": "NameError",
     "evalue": "name 'num_cores' is not defined",
     "output_type": "error",
     "traceback": [
      "\u001b[0;31m---------------------------------------------------------------------------\u001b[0m",
      "\u001b[0;31mNameError\u001b[0m                                 Traceback (most recent call last)",
      "\u001b[0;32m<ipython-input-17-e976466da772>\u001b[0m in \u001b[0;36m<module>\u001b[0;34m\u001b[0m\n\u001b[0;32m----> 1\u001b[0;31m \u001b[0mpool_obj\u001b[0m \u001b[0;34m=\u001b[0m \u001b[0mmp\u001b[0m\u001b[0;34m.\u001b[0m\u001b[0mPool\u001b[0m\u001b[0;34m(\u001b[0m\u001b[0mnum_cores\u001b[0m\u001b[0;34m)\u001b[0m\u001b[0;34m\u001b[0m\u001b[0;34m\u001b[0m\u001b[0m\n\u001b[0m\u001b[1;32m      2\u001b[0m \u001b[0mstart\u001b[0m \u001b[0;34m=\u001b[0m \u001b[0mtime\u001b[0m\u001b[0;34m.\u001b[0m\u001b[0mtime\u001b[0m\u001b[0;34m(\u001b[0m\u001b[0;34m)\u001b[0m\u001b[0;34m\u001b[0m\u001b[0;34m\u001b[0m\u001b[0m\n\u001b[1;32m      3\u001b[0m \u001b[0msub_node_embeddings_list\u001b[0m \u001b[0;34m=\u001b[0m \u001b[0mpool_obj\u001b[0m\u001b[0;34m.\u001b[0m\u001b[0mmap\u001b[0m\u001b[0;34m(\u001b[0m\u001b[0msub_Node2Vec\u001b[0m\u001b[0;34m,\u001b[0m \u001b[0mlist\u001b[0m\u001b[0;34m(\u001b[0m\u001b[0mLP\u001b[0m\u001b[0;34m)\u001b[0m\u001b[0;34m)\u001b[0m\u001b[0;34m\u001b[0m\u001b[0;34m\u001b[0m\u001b[0m\n\u001b[1;32m      4\u001b[0m \u001b[0mlocalGRL_time\u001b[0m \u001b[0;34m=\u001b[0m \u001b[0mstart\u001b[0m \u001b[0;34m-\u001b[0m \u001b[0mtime\u001b[0m\u001b[0;34m.\u001b[0m\u001b[0mtime\u001b[0m\u001b[0;34m(\u001b[0m\u001b[0;34m)\u001b[0m\u001b[0;34m\u001b[0m\u001b[0;34m\u001b[0m\u001b[0m\n\u001b[1;32m      5\u001b[0m \u001b[0mprint\u001b[0m\u001b[0;34m(\u001b[0m\u001b[0;34m\"@@@ Major Community Local GRL time :\"\u001b[0m\u001b[0;34m,\u001b[0m \u001b[0mlocalGRL_time\u001b[0m\u001b[0;34m,\u001b[0m\u001b[0;34m\" @@@\"\u001b[0m\u001b[0;34m)\u001b[0m\u001b[0;34m\u001b[0m\u001b[0;34m\u001b[0m\u001b[0m\n",
      "\u001b[0;31mNameError\u001b[0m: name 'num_cores' is not defined"
     ]
    }
   ],
   "source": [
    "pool_obj = mp.Pool(num_cores)\n",
    "start = time.time()\n",
    "sub_node_embeddings_list = pool_obj.map(sub_Node2Vec, list(LP))\n",
    "localGRL_time = start - time.time()\n",
    "print(\"@@@ Major Community Local GRL time :\", localGRL_time,\" @@@\")"
   ]
  },
  {
   "cell_type": "code",
   "execution_count": 15,
   "metadata": {},
   "outputs": [],
   "source": [
    "for community_idx in range(len(LP)):\n",
    "    if sub_node_embeddings_list[community_idx] is not None:\n",
    "        sub_node_embeddings = sub_node_embeddings_list[community_idx]\n",
    "        j=0\n",
    "        for i in LP[community_idx]:\n",
    "            node_embeddings[i] = sub_node_embeddings[j]\n",
    "            j += 1"
   ]
  },
  {
   "cell_type": "code",
   "execution_count": 17,
   "metadata": {},
   "outputs": [
    {
     "data": {
      "text/plain": [
       "89213"
      ]
     },
     "execution_count": 17,
     "metadata": {},
     "output_type": "execute_result"
    }
   ],
   "source": [
    "len(node_embeddings)"
   ]
  },
  {
   "cell_type": "code",
   "execution_count": null,
   "metadata": {},
   "outputs": [],
   "source": [
    "''' \n",
    "@@@ NO PARALLEL PROCESSING VERSION @@@\n",
    "start = time.time()\n",
    "for community_idx in range(len(LP)):\n",
    "    # Intra Community Embedding \n",
    "    if len(LP[community_idx]) >= 100:\n",
    "        sub_node_embeddings = sub_Node2Vec(LP[community_idx],\"Sub-graph no.[\"+str(community_idx)+\"]\")\n",
    "        print(len(sub_node_embeddings))\n",
    "        \n",
    "        # 전체 그래프에 대한 GraphSAGE에 의해 도출된 feature를 아예 덮어쓰는 것. \n",
    "        j=0\n",
    "        for i in LP[community_idx]:\n",
    "          #  print(i, end=' ')\n",
    "            node_embeddings[i] = sub_node_embeddings[j]\n",
    "            j += 1\n",
    "localGRL_time = time.time() - start\n",
    "print(\"@@@ Major Community Local GRL time :\", localGRL_time, \" @@@\")\n",
    "'''"
   ]
  },
  {
   "cell_type": "markdown",
   "metadata": {},
   "source": [
    "### Community는 하나의 node로 변환함으로써 축소된 Global graph 생성"
   ]
  },
  {
   "cell_type": "code",
   "execution_count": 22,
   "metadata": {},
   "outputs": [],
   "source": [
    "membership = LP.membership\n",
    "counter = Counter(membership).most_common()"
   ]
  },
  {
   "cell_type": "code",
   "execution_count": 23,
   "metadata": {},
   "outputs": [
    {
     "name": "stdout",
     "output_type": "stream",
     "text": [
      "3770\n"
     ]
    }
   ],
   "source": [
    "minor_vertexID = []\n",
    "# community size 가 100보다 작으면 minor vertex ID list에 추가\n",
    "for c in counter:\n",
    "    if c[1]<100:\n",
    "        minor_vertexID.append(c[0])\n",
    "print(len(minor_vertexID))"
   ]
  },
  {
   "cell_type": "code",
   "execution_count": 24,
   "metadata": {},
   "outputs": [],
   "source": [
    "# Minor community 인 애들은 노드 살려놔야하니까 membership 다시 부여하기\n",
    "new_id = len(LP)\n",
    "for i in range(len(membership)):\n",
    "    if membership[i] in minor_vertexID:\n",
    "        membership[i] = new_id\n",
    "        new_id += 1"
   ]
  },
  {
   "cell_type": "code",
   "execution_count": 25,
   "metadata": {},
   "outputs": [],
   "source": [
    "idx_map = {}\n",
    "n = 0\n",
    "for i in sorted(dict(Counter(membership))):\n",
    "    idx_map[i] = n\n",
    "    n+=1"
   ]
  },
  {
   "cell_type": "code",
   "execution_count": 26,
   "metadata": {},
   "outputs": [],
   "source": [
    "# 인덱스 순서대로 초기화\n",
    "new_idx = 0\n",
    "for i in range(len(membership)):\n",
    "    membership[i] = idx_map[membership[i]]"
   ]
  },
  {
   "cell_type": "code",
   "execution_count": 27,
   "metadata": {},
   "outputs": [],
   "source": [
    "ig.contract_vertices(membership, combine_attrs=\"mean\")"
   ]
  },
  {
   "cell_type": "markdown",
   "metadata": {},
   "source": [
    "### RL 적용 (global RL) - 기존 graph에 비해 연산 크게 축소"
   ]
  },
  {
   "cell_type": "code",
   "execution_count": 28,
   "metadata": {},
   "outputs": [],
   "source": [
    "reduced_globalG = StellarGraph.from_networkx(ig.to_networkx(), node_type_default = \"user\", edge_type_default = \"friendship\")"
   ]
  },
  {
   "cell_type": "code",
   "execution_count": 29,
   "metadata": {},
   "outputs": [
    {
     "name": "stdout",
     "output_type": "stream",
     "text": [
      "StellarGraph: Undirected multigraph\n",
      " Nodes: 25194, Edges: 607333\n",
      "\n",
      " Node types:\n",
      "  user: [25194]\n",
      "    Features: none\n",
      "    Edge types: user-friendship->user\n",
      "\n",
      " Edge types:\n",
      "    user-friendship->user: [607333]\n",
      "        Weights: all 1 (default)\n",
      "        Features: none\n"
     ]
    }
   ],
   "source": [
    "print(reduced_globalG.info()) # 전체 그래프 load"
   ]
  },
  {
   "cell_type": "code",
   "execution_count": 30,
   "metadata": {},
   "outputs": [],
   "source": [
    "def node2vec_embedding(graph, name):\n",
    "    rw = BiasedRandomWalk(graph)\n",
    "    walks = rw.run(graph.nodes(), n=num_walks, length=walk_length, p=p, q=q)\n",
    "    print(f\"Number of random walks for '{name}': {len(walks)}\")\n",
    "\n",
    "    model = Word2Vec(\n",
    "        walks,\n",
    "        vector_size =dimensions,\n",
    "        window=window_size,\n",
    "        min_count=0,\n",
    "        sg=1,\n",
    "        workers=workers,\n",
    "        epochs=num_iter,\n",
    "    )\n",
    "\n",
    "    return model.wv"
   ]
  },
  {
   "cell_type": "code",
   "execution_count": 31,
   "metadata": {},
   "outputs": [
    {
     "name": "stdout",
     "output_type": "stream",
     "text": [
      "Number of random walks for 'Reduced Global Graph': 251940\n",
      "@@@ Global reduced GRL time : 15482.22403383255  @@@\n"
     ]
    }
   ],
   "source": [
    "start = time.time()\n",
    "reduced_globalG_embedding = node2vec_embedding(reduced_globalG, \"Reduced Global Graph\")\n",
    "globalGRL_time = time.time() - start\n",
    "print(\"@@@ Global reduced GRL time :\", globalGRL_time,\" @@@\")"
   ]
  },
  {
   "cell_type": "code",
   "execution_count": 32,
   "metadata": {},
   "outputs": [
    {
     "name": "stdout",
     "output_type": "stream",
     "text": [
      "time : 54.47110199928284\n"
     ]
    }
   ],
   "source": [
    "# global graph에 대한 RL 적용 결과 붙이기\n",
    "start = time.time()\n",
    "for community_idx in range(len(LP)):\n",
    "    # Intra Community Embedding \n",
    "    if len(LP[community_idx])<100:        \n",
    "        j=0\n",
    "        for i in LP[community_idx]:\n",
    "            node_embeddings[i] = reduced_globalG_embedding[j]\n",
    "            j += 1\n",
    "print(\"time :\", time.time() - start)"
   ]
  },
  {
   "cell_type": "code",
   "execution_count": 33,
   "metadata": {},
   "outputs": [],
   "source": [
    "cnt = 0\n",
    "for nodes in node_embeddings.values():\n",
    "    if nodes[0] == 0.0: # 임베딩 업데이트 안된 노드 있는지 확인\n",
    "        cnt += 1"
   ]
  },
  {
   "cell_type": "code",
   "execution_count": 34,
   "metadata": {},
   "outputs": [
    {
     "data": {
      "text/plain": [
       "0"
      ]
     },
     "execution_count": 34,
     "metadata": {},
     "output_type": "execute_result"
    }
   ],
   "source": [
    "cnt"
   ]
  },
  {
   "cell_type": "markdown",
   "metadata": {},
   "source": [
    "### 전체 그래프에 대해서 Link Prediction 결과 확인"
   ]
  },
  {
   "cell_type": "code",
   "execution_count": 35,
   "metadata": {},
   "outputs": [
    {
     "name": "stdout",
     "output_type": "stream",
     "text": [
      "** Sampled 60733 positive and 60733 negative edges. **\n",
      "StellarGraph: Undirected multigraph\n",
      " Nodes: 114324, Edges: 546600\n",
      "\n",
      " Node types:\n",
      "  user: [114324]\n",
      "    Features: float32 vector, length 2\n",
      "    Edge types: user-friendship->user\n",
      "\n",
      " Edge types:\n",
      "    user-friendship->user: [546600]\n",
      "        Weights: all 1 (default)\n",
      "        Features: none\n"
     ]
    }
   ],
   "source": [
    "# Define an edge splitter on the original graph:\n",
    "edge_splitter_test = EdgeSplitter(userGraph_country_deg)\n",
    "\n",
    "# Randomly sample a fraction p=0.1 of all positive links, and same number of negative links, from graph, and obtain the\n",
    "# reduced graph graph_test with the sampled links removed:\n",
    "graph_test, examples_test, labels_test = edge_splitter_test.train_test_split(\n",
    "    p=0.1, method=\"global\"\n",
    ")\n",
    "\n",
    "print(graph_test.info())"
   ]
  },
  {
   "cell_type": "code",
   "execution_count": 36,
   "metadata": {},
   "outputs": [
    {
     "name": "stdout",
     "output_type": "stream",
     "text": [
      "** Sampled 54660 positive and 54660 negative edges. **\n",
      "StellarGraph: Undirected multigraph\n",
      " Nodes: 114324, Edges: 491940\n",
      "\n",
      " Node types:\n",
      "  user: [114324]\n",
      "    Features: float32 vector, length 2\n",
      "    Edge types: user-friendship->user\n",
      "\n",
      " Edge types:\n",
      "    user-friendship->user: [491940]\n",
      "        Weights: all 1 (default)\n",
      "        Features: none\n"
     ]
    }
   ],
   "source": [
    "# Do the same process to compute a training subset from within the test graph\n",
    "edge_splitter_train = EdgeSplitter(graph_test, userGraph_country_deg)\n",
    "graph_train, examples, labels = edge_splitter_train.train_test_split(\n",
    "    p=0.1, method=\"global\"\n",
    ")\n",
    "(\n",
    "    examples_train,\n",
    "    examples_model_selection,\n",
    "    labels_train,\n",
    "    labels_model_selection,\n",
    ") = train_test_split(examples, labels, train_size=0.75, test_size=0.25)\n",
    "\n",
    "print(graph_train.info())"
   ]
  },
  {
   "cell_type": "code",
   "execution_count": 37,
   "metadata": {},
   "outputs": [
    {
     "data": {
      "text/html": [
       "<div>\n",
       "<style scoped>\n",
       "    .dataframe tbody tr th:only-of-type {\n",
       "        vertical-align: middle;\n",
       "    }\n",
       "\n",
       "    .dataframe tbody tr th {\n",
       "        vertical-align: top;\n",
       "    }\n",
       "\n",
       "    .dataframe thead th {\n",
       "        text-align: right;\n",
       "    }\n",
       "</style>\n",
       "<table border=\"1\" class=\"dataframe\">\n",
       "  <thead>\n",
       "    <tr style=\"text-align: right;\">\n",
       "      <th></th>\n",
       "      <th>Number of Examples</th>\n",
       "      <th>Hidden from</th>\n",
       "      <th>Picked from</th>\n",
       "      <th>Use</th>\n",
       "    </tr>\n",
       "    <tr>\n",
       "      <th>Split</th>\n",
       "      <th></th>\n",
       "      <th></th>\n",
       "      <th></th>\n",
       "      <th></th>\n",
       "    </tr>\n",
       "  </thead>\n",
       "  <tbody>\n",
       "    <tr>\n",
       "      <th>Training Set</th>\n",
       "      <td>81990</td>\n",
       "      <td>Train Graph</td>\n",
       "      <td>Test Graph</td>\n",
       "      <td>Train the Link Classifier</td>\n",
       "    </tr>\n",
       "    <tr>\n",
       "      <th>Model Selection</th>\n",
       "      <td>27330</td>\n",
       "      <td>Train Graph</td>\n",
       "      <td>Test Graph</td>\n",
       "      <td>Select the best Link Classifier model</td>\n",
       "    </tr>\n",
       "    <tr>\n",
       "      <th>Test set</th>\n",
       "      <td>121466</td>\n",
       "      <td>Test Graph</td>\n",
       "      <td>Full Graph</td>\n",
       "      <td>Evaluate the best Link Classifier</td>\n",
       "    </tr>\n",
       "  </tbody>\n",
       "</table>\n",
       "</div>"
      ],
      "text/plain": [
       "                 Number of Examples  Hidden from Picked from  \\\n",
       "Split                                                          \n",
       "Training Set                  81990  Train Graph  Test Graph   \n",
       "Model Selection               27330  Train Graph  Test Graph   \n",
       "Test set                     121466   Test Graph  Full Graph   \n",
       "\n",
       "                                                   Use  \n",
       "Split                                                   \n",
       "Training Set                 Train the Link Classifier  \n",
       "Model Selection  Select the best Link Classifier model  \n",
       "Test set             Evaluate the best Link Classifier  "
      ]
     },
     "execution_count": 37,
     "metadata": {},
     "output_type": "execute_result"
    }
   ],
   "source": [
    "pd.DataFrame(\n",
    "    [\n",
    "        (\n",
    "            \"Training Set\",\n",
    "            len(examples_train),\n",
    "            \"Train Graph\",\n",
    "            \"Test Graph\",\n",
    "            \"Train the Link Classifier\",\n",
    "        ),\n",
    "        (\n",
    "            \"Model Selection\",\n",
    "            len(examples_model_selection),\n",
    "            \"Train Graph\",\n",
    "            \"Test Graph\",\n",
    "            \"Select the best Link Classifier model\",\n",
    "        ),\n",
    "        (\n",
    "            \"Test set\",\n",
    "            len(examples_test),\n",
    "            \"Test Graph\",\n",
    "            \"Full Graph\",\n",
    "            \"Evaluate the best Link Classifier\",\n",
    "        ),\n",
    "    ],\n",
    "    columns=(\"Split\", \"Number of Examples\", \"Hidden from\", \"Picked from\", \"Use\"),\n",
    ").set_index(\"Split\")"
   ]
  },
  {
   "cell_type": "code",
   "execution_count": 38,
   "metadata": {},
   "outputs": [],
   "source": [
    "# 1. link embeddings\n",
    "def link_examples_to_features(link_examples, transform_node, binary_operator):\n",
    "    return [\n",
    "        binary_operator(transform_node[src], transform_node[dst])\n",
    "        for src, dst in link_examples\n",
    "    ]\n",
    "\n",
    "\n",
    "# 2. training classifier\n",
    "def train_link_prediction_model(\n",
    "    link_examples, link_labels, get_embedding, binary_operator\n",
    "):\n",
    "    clf = link_prediction_classifier()\n",
    "    link_features = link_examples_to_features(\n",
    "        link_examples, get_embedding, binary_operator\n",
    "    )\n",
    "    clf.fit(link_features, link_labels)\n",
    "    return clf\n",
    "\n",
    "\n",
    "def link_prediction_classifier(max_iter=2000):\n",
    "    lr_clf = LogisticRegressionCV(Cs=10, cv=10, scoring=\"roc_auc\", max_iter=max_iter)\n",
    "    return Pipeline(steps=[(\"sc\", StandardScaler()), (\"clf\", lr_clf)])\n",
    "\n",
    "\n",
    "# 3. and 4. evaluate classifier\n",
    "def evaluate_link_prediction_model(\n",
    "    clf, link_examples_test, link_labels_test, get_embedding, binary_operator\n",
    "):\n",
    "    link_features_test = link_examples_to_features(\n",
    "        link_examples_test, get_embedding, binary_operator\n",
    "    )\n",
    "    score = evaluate_roc_auc(clf, link_features_test, link_labels_test)\n",
    "    return score\n",
    "\n",
    "\n",
    "def evaluate_roc_auc(clf, link_features, link_labels):\n",
    "    predicted = clf.predict_proba(link_features)\n",
    "\n",
    "    # check which class corresponds to positive links\n",
    "    positive_column = list(clf.classes_).index(1)\n",
    "    return roc_auc_score(link_labels, predicted[:, positive_column])"
   ]
  },
  {
   "cell_type": "code",
   "execution_count": 39,
   "metadata": {},
   "outputs": [],
   "source": [
    "def operator_hadamard(u, v):\n",
    "    return u * v\n",
    "\n",
    "\n",
    "def operator_l1(u, v):\n",
    "    return np.abs(u - v)\n",
    "\n",
    "\n",
    "def operator_l2(u, v):\n",
    "    return (u - v) ** 2\n",
    "\n",
    "\n",
    "def operator_avg(u, v):\n",
    "    return (u + v) / 2.0\n",
    "\n",
    "\n",
    "def run_link_prediction(binary_operator,embedding_train):\n",
    "    clf = train_link_prediction_model(\n",
    "        examples_train, labels_train, embedding_train, binary_operator\n",
    "    )\n",
    "    score = evaluate_link_prediction_model(\n",
    "        clf,\n",
    "        examples_model_selection,\n",
    "        labels_model_selection,\n",
    "        embedding_train,\n",
    "        binary_operator,\n",
    "    )\n",
    "\n",
    "    return {\n",
    "        \"classifier\": clf,\n",
    "        \"binary_operator\": binary_operator,\n",
    "        \"score\": score,\n",
    "    }\n",
    "\n",
    "\n",
    "binary_operators = [operator_hadamard, operator_l1, operator_l2, operator_avg]"
   ]
  },
  {
   "cell_type": "code",
   "execution_count": 40,
   "metadata": {
    "scrolled": true
   },
   "outputs": [
    {
     "name": "stdout",
     "output_type": "stream",
     "text": [
      "Best result from 'operator_hadamard'\n"
     ]
    },
    {
     "data": {
      "text/html": [
       "<div>\n",
       "<style scoped>\n",
       "    .dataframe tbody tr th:only-of-type {\n",
       "        vertical-align: middle;\n",
       "    }\n",
       "\n",
       "    .dataframe tbody tr th {\n",
       "        vertical-align: top;\n",
       "    }\n",
       "\n",
       "    .dataframe thead th {\n",
       "        text-align: right;\n",
       "    }\n",
       "</style>\n",
       "<table border=\"1\" class=\"dataframe\">\n",
       "  <thead>\n",
       "    <tr style=\"text-align: right;\">\n",
       "      <th></th>\n",
       "      <th>ROC AUC score</th>\n",
       "    </tr>\n",
       "    <tr>\n",
       "      <th>name</th>\n",
       "      <th></th>\n",
       "    </tr>\n",
       "  </thead>\n",
       "  <tbody>\n",
       "    <tr>\n",
       "      <th>operator_hadamard</th>\n",
       "      <td>0.935543</td>\n",
       "    </tr>\n",
       "    <tr>\n",
       "      <th>operator_l1</th>\n",
       "      <td>0.908170</td>\n",
       "    </tr>\n",
       "    <tr>\n",
       "      <th>operator_l2</th>\n",
       "      <td>0.909925</td>\n",
       "    </tr>\n",
       "    <tr>\n",
       "      <th>operator_avg</th>\n",
       "      <td>0.713575</td>\n",
       "    </tr>\n",
       "  </tbody>\n",
       "</table>\n",
       "</div>"
      ],
      "text/plain": [
       "                   ROC AUC score\n",
       "name                            \n",
       "operator_hadamard       0.935543\n",
       "operator_l1             0.908170\n",
       "operator_l2             0.909925\n",
       "operator_avg            0.713575"
      ]
     },
     "execution_count": 40,
     "metadata": {},
     "output_type": "execute_result"
    }
   ],
   "source": [
    "results = [run_link_prediction(op,node_embeddings) for op in binary_operators]\n",
    "best_result = max(results, key=lambda result: result[\"score\"])\n",
    "\n",
    "print(f\"Best result from '{best_result['binary_operator'].__name__}'\")\n",
    "\n",
    "pd.DataFrame(\n",
    "    [(result[\"binary_operator\"].__name__, result[\"score\"]) for result in results],\n",
    "    columns=(\"name\", \"ROC AUC score\"),\n",
    ").set_index(\"name\")"
   ]
  },
  {
   "cell_type": "code",
   "execution_count": 41,
   "metadata": {},
   "outputs": [
    {
     "name": "stdout",
     "output_type": "stream",
     "text": [
      "ROC AUC score on test set using 'operator_hadamard': 0.9359040731288986\n",
      "ROC AUC score on test set using 'operator_l1': 0.9057798880491466\n",
      "ROC AUC score on test set using 'operator_l2': 0.9074411672964632\n",
      "ROC AUC score on test set using 'operator_avg': 0.7113737002939139\n"
     ]
    }
   ],
   "source": [
    "for result in results:\n",
    "    test_score = evaluate_link_prediction_model(\n",
    "        result[\"classifier\"],\n",
    "        examples_test,\n",
    "        labels_test,\n",
    "        node_embeddings,\n",
    "        result[\"binary_operator\"],\n",
    "    )\n",
    "    print(\n",
    "        f\"ROC AUC score on test set using '{result['binary_operator'].__name__}': {test_score}\"\n",
    "    )"
   ]
  },
  {
   "cell_type": "code",
   "execution_count": 42,
   "metadata": {},
   "outputs": [
    {
     "name": "stdout",
     "output_type": "stream",
     "text": [
      "Total Time:  10817.609925031662\n"
     ]
    }
   ],
   "source": [
    "print(\"Total Time: \",localGRL_time + globalGRL_time)"
   ]
  },
  {
   "cell_type": "code",
   "execution_count": 43,
   "metadata": {},
   "outputs": [
    {
     "name": "stdout",
     "output_type": "stream",
     "text": [
      "Total Time:  20146.838142633438\n"
     ]
    }
   ],
   "source": [
    "print(\"Total Time: \",-1*localGRL_time + globalGRL_time)"
   ]
  }
 ],
 "metadata": {
  "kernelspec": {
   "display_name": "python36",
   "language": "python",
   "name": "python36"
  },
  "language_info": {
   "codemirror_mode": {
    "name": "ipython",
    "version": 3
   },
   "file_extension": ".py",
   "mimetype": "text/x-python",
   "name": "python",
   "nbconvert_exporter": "python",
   "pygments_lexer": "ipython3",
   "version": "3.6.13"
  }
 },
 "nbformat": 4,
 "nbformat_minor": 2
}
