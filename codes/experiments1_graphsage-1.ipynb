{
 "cells": [
  {
   "cell_type": "code",
   "execution_count": 1,
   "metadata": {},
   "outputs": [],
   "source": [
    "import pandas as pd\n",
    "from igraph import Graph\n",
    "import igraph\n",
    "import matplotlib.pyplot as plt\n",
    "import networkx as nx\n",
    "from collections import Counter\n",
    "import pandas as pd\n",
    "from stellargraph import StellarGraph, datasets\n",
    "from stellargraph.data import EdgeSplitter\n",
    "import numpy as np\n",
    "import pickle"
   ]
  },
  {
   "cell_type": "code",
   "execution_count": 2,
   "metadata": {},
   "outputs": [],
   "source": [
    "from stellargraph.data import UnsupervisedSampler\n",
    "from stellargraph.mapper import GraphSAGELinkGenerator,GraphSAGENodeGenerator\n",
    "from stellargraph.layer import GraphSAGE, link_classification\n",
    "from stellargraph.data import UniformRandomWalk\n",
    "from tensorflow import keras\n",
    "import time"
   ]
  },
  {
   "cell_type": "code",
   "execution_count": 3,
   "metadata": {},
   "outputs": [],
   "source": [
    "defaultVal = 1\n",
    "incentiveVal = 1\n",
    "penaltyVal = 1\n",
    "# 극대화"
   ]
  },
  {
   "cell_type": "code",
   "execution_count": 4,
   "metadata": {},
   "outputs": [],
   "source": [
    "# Edge between two user node (607,333 friendships)\n",
    "file = '/home/jhpark/dataset_WWW2019/dataset_WWW2019/dataset_WWW_friendship_new.txt'\n",
    "g = nx.read_edgelist(file , nodetype = int, edgetype='Freindship')\n",
    "print(nx.info(g))"
   ]
  },
  {
   "cell_type": "code",
   "execution_count": 6,
   "metadata": {},
   "outputs": [],
   "source": [
    "ig = Graph.from_networkx(g) # NetworkX to igraph "
   ]
  },
  {
   "cell_type": "code",
   "execution_count": 7,
   "metadata": {},
   "outputs": [],
   "source": [
    "ig.vs[\"id\"] = ig.vs[\"_nx_name\"]"
   ]
  },
  {
   "cell_type": "code",
   "execution_count": 8,
   "metadata": {},
   "outputs": [],
   "source": [
    "ig.es[\"weight\"] = [defaultVal]*ig.ecount()"
   ]
  },
  {
   "cell_type": "code",
   "execution_count": 9,
   "metadata": {},
   "outputs": [],
   "source": [
    "node_features_encoded = pd.read_csv(\"/home/jhpark/dataset_WWW2019/node_features_encoded.csv\", index_col=0)"
   ]
  },
  {
   "cell_type": "code",
   "execution_count": 10,
   "metadata": {},
   "outputs": [
    {
     "data": {
      "text/html": [
       "<div>\n",
       "<style scoped>\n",
       "    .dataframe tbody tr th:only-of-type {\n",
       "        vertical-align: middle;\n",
       "    }\n",
       "\n",
       "    .dataframe tbody tr th {\n",
       "        vertical-align: top;\n",
       "    }\n",
       "\n",
       "    .dataframe thead th {\n",
       "        text-align: right;\n",
       "    }\n",
       "</style>\n",
       "<table border=\"1\" class=\"dataframe\">\n",
       "  <thead>\n",
       "    <tr style=\"text-align: right;\">\n",
       "      <th></th>\n",
       "      <th>userID</th>\n",
       "      <th>latitude</th>\n",
       "      <th>longitude</th>\n",
       "      <th>degree</th>\n",
       "      <th>countrycode_encoded</th>\n",
       "      <th>category_encoded</th>\n",
       "    </tr>\n",
       "  </thead>\n",
       "  <tbody>\n",
       "    <tr>\n",
       "      <th>0</th>\n",
       "      <td>15</td>\n",
       "      <td>36.292778</td>\n",
       "      <td>-119.332032</td>\n",
       "      <td>1</td>\n",
       "      <td>136</td>\n",
       "      <td>179</td>\n",
       "    </tr>\n",
       "    <tr>\n",
       "      <th>1</th>\n",
       "      <td>595326</td>\n",
       "      <td>36.330163</td>\n",
       "      <td>-119.292760</td>\n",
       "      <td>2</td>\n",
       "      <td>136</td>\n",
       "      <td>30</td>\n",
       "    </tr>\n",
       "    <tr>\n",
       "      <th>2</th>\n",
       "      <td>19</td>\n",
       "      <td>40.725292</td>\n",
       "      <td>-73.989419</td>\n",
       "      <td>21</td>\n",
       "      <td>136</td>\n",
       "      <td>3</td>\n",
       "    </tr>\n",
       "    <tr>\n",
       "      <th>3</th>\n",
       "      <td>54</td>\n",
       "      <td>37.781213</td>\n",
       "      <td>-122.402973</td>\n",
       "      <td>12</td>\n",
       "      <td>136</td>\n",
       "      <td>369</td>\n",
       "    </tr>\n",
       "    <tr>\n",
       "      <th>4</th>\n",
       "      <td>1061</td>\n",
       "      <td>37.761245</td>\n",
       "      <td>-122.402169</td>\n",
       "      <td>4</td>\n",
       "      <td>136</td>\n",
       "      <td>369</td>\n",
       "    </tr>\n",
       "    <tr>\n",
       "      <th>...</th>\n",
       "      <td>...</td>\n",
       "      <td>...</td>\n",
       "      <td>...</td>\n",
       "      <td>...</td>\n",
       "      <td>...</td>\n",
       "      <td>...</td>\n",
       "    </tr>\n",
       "    <tr>\n",
       "      <th>114319</th>\n",
       "      <td>2110586</td>\n",
       "      <td>41.015145</td>\n",
       "      <td>29.082438</td>\n",
       "      <td>1</td>\n",
       "      <td>130</td>\n",
       "      <td>311</td>\n",
       "    </tr>\n",
       "    <tr>\n",
       "      <th>114320</th>\n",
       "      <td>2112106</td>\n",
       "      <td>40.977817</td>\n",
       "      <td>28.869099</td>\n",
       "      <td>1</td>\n",
       "      <td>130</td>\n",
       "      <td>237</td>\n",
       "    </tr>\n",
       "    <tr>\n",
       "      <th>114321</th>\n",
       "      <td>2112150</td>\n",
       "      <td>1.349318</td>\n",
       "      <td>103.746295</td>\n",
       "      <td>1</td>\n",
       "      <td>122</td>\n",
       "      <td>199</td>\n",
       "    </tr>\n",
       "    <tr>\n",
       "      <th>114322</th>\n",
       "      <td>2127581</td>\n",
       "      <td>1.309555</td>\n",
       "      <td>103.778610</td>\n",
       "      <td>1</td>\n",
       "      <td>122</td>\n",
       "      <td>237</td>\n",
       "    </tr>\n",
       "    <tr>\n",
       "      <th>114323</th>\n",
       "      <td>2121716</td>\n",
       "      <td>3.192952</td>\n",
       "      <td>113.045599</td>\n",
       "      <td>1</td>\n",
       "      <td>95</td>\n",
       "      <td>316</td>\n",
       "    </tr>\n",
       "  </tbody>\n",
       "</table>\n",
       "<p>114324 rows × 6 columns</p>\n",
       "</div>"
      ],
      "text/plain": [
       "         userID   latitude   longitude  degree  countrycode_encoded  \\\n",
       "0            15  36.292778 -119.332032       1                  136   \n",
       "1        595326  36.330163 -119.292760       2                  136   \n",
       "2            19  40.725292  -73.989419      21                  136   \n",
       "3            54  37.781213 -122.402973      12                  136   \n",
       "4          1061  37.761245 -122.402169       4                  136   \n",
       "...         ...        ...         ...     ...                  ...   \n",
       "114319  2110586  41.015145   29.082438       1                  130   \n",
       "114320  2112106  40.977817   28.869099       1                  130   \n",
       "114321  2112150   1.349318  103.746295       1                  122   \n",
       "114322  2127581   1.309555  103.778610       1                  122   \n",
       "114323  2121716   3.192952  113.045599       1                   95   \n",
       "\n",
       "        category_encoded  \n",
       "0                    179  \n",
       "1                     30  \n",
       "2                      3  \n",
       "3                    369  \n",
       "4                    369  \n",
       "...                  ...  \n",
       "114319               311  \n",
       "114320               237  \n",
       "114321               199  \n",
       "114322               237  \n",
       "114323               316  \n",
       "\n",
       "[114324 rows x 6 columns]"
      ]
     },
     "execution_count": 10,
     "metadata": {},
     "output_type": "execute_result"
    }
   ],
   "source": [
    "node_features_encoded"
   ]
  },
  {
   "cell_type": "code",
   "execution_count": 11,
   "metadata": {},
   "outputs": [],
   "source": [
    "country_degree = pd.concat([node_features_encoded['countrycode_encoded'], node_features_encoded['degree']],axis=1)"
   ]
  },
  {
   "cell_type": "code",
   "execution_count": 12,
   "metadata": {},
   "outputs": [],
   "source": [
    "node_embeddings = np.load('/home/jhpark/dataset_WWW2019/original_node_embedding.npy')"
   ]
  },
  {
   "cell_type": "code",
   "execution_count": 13,
   "metadata": {},
   "outputs": [],
   "source": [
    "node_embeddings_df = pd.DataFrame(node_embeddings)"
   ]
  },
  {
   "cell_type": "code",
   "execution_count": 14,
   "metadata": {},
   "outputs": [
    {
     "data": {
      "text/html": [
       "<div>\n",
       "<style scoped>\n",
       "    .dataframe tbody tr th:only-of-type {\n",
       "        vertical-align: middle;\n",
       "    }\n",
       "\n",
       "    .dataframe tbody tr th {\n",
       "        vertical-align: top;\n",
       "    }\n",
       "\n",
       "    .dataframe thead th {\n",
       "        text-align: right;\n",
       "    }\n",
       "</style>\n",
       "<table border=\"1\" class=\"dataframe\">\n",
       "  <thead>\n",
       "    <tr style=\"text-align: right;\">\n",
       "      <th></th>\n",
       "      <th>0</th>\n",
       "      <th>1</th>\n",
       "      <th>2</th>\n",
       "      <th>3</th>\n",
       "      <th>4</th>\n",
       "      <th>5</th>\n",
       "      <th>6</th>\n",
       "      <th>7</th>\n",
       "      <th>8</th>\n",
       "      <th>9</th>\n",
       "      <th>...</th>\n",
       "      <th>40</th>\n",
       "      <th>41</th>\n",
       "      <th>42</th>\n",
       "      <th>43</th>\n",
       "      <th>44</th>\n",
       "      <th>45</th>\n",
       "      <th>46</th>\n",
       "      <th>47</th>\n",
       "      <th>48</th>\n",
       "      <th>49</th>\n",
       "    </tr>\n",
       "  </thead>\n",
       "  <tbody>\n",
       "    <tr>\n",
       "      <th>0</th>\n",
       "      <td>-0.090709</td>\n",
       "      <td>-0.251975</td>\n",
       "      <td>-0.045467</td>\n",
       "      <td>0.282222</td>\n",
       "      <td>-0.149535</td>\n",
       "      <td>-0.188388</td>\n",
       "      <td>0.141450</td>\n",
       "      <td>0.009015</td>\n",
       "      <td>0.135344</td>\n",
       "      <td>-0.281213</td>\n",
       "      <td>...</td>\n",
       "      <td>-0.026789</td>\n",
       "      <td>-0.090211</td>\n",
       "      <td>0.054024</td>\n",
       "      <td>0.010953</td>\n",
       "      <td>0.087776</td>\n",
       "      <td>-0.030543</td>\n",
       "      <td>-0.103395</td>\n",
       "      <td>-0.307168</td>\n",
       "      <td>0.030882</td>\n",
       "      <td>0.042989</td>\n",
       "    </tr>\n",
       "    <tr>\n",
       "      <th>1</th>\n",
       "      <td>-0.105589</td>\n",
       "      <td>-0.249290</td>\n",
       "      <td>-0.082937</td>\n",
       "      <td>0.267890</td>\n",
       "      <td>-0.090993</td>\n",
       "      <td>-0.169736</td>\n",
       "      <td>0.191694</td>\n",
       "      <td>-0.022254</td>\n",
       "      <td>0.160962</td>\n",
       "      <td>-0.260920</td>\n",
       "      <td>...</td>\n",
       "      <td>-0.033256</td>\n",
       "      <td>-0.105994</td>\n",
       "      <td>0.068096</td>\n",
       "      <td>0.043847</td>\n",
       "      <td>0.052686</td>\n",
       "      <td>-0.101878</td>\n",
       "      <td>-0.125591</td>\n",
       "      <td>-0.271541</td>\n",
       "      <td>0.052875</td>\n",
       "      <td>0.041560</td>\n",
       "    </tr>\n",
       "    <tr>\n",
       "      <th>2</th>\n",
       "      <td>-0.117050</td>\n",
       "      <td>-0.251716</td>\n",
       "      <td>-0.063989</td>\n",
       "      <td>0.291099</td>\n",
       "      <td>-0.162530</td>\n",
       "      <td>-0.206871</td>\n",
       "      <td>0.159735</td>\n",
       "      <td>-0.001863</td>\n",
       "      <td>0.170982</td>\n",
       "      <td>-0.275303</td>\n",
       "      <td>...</td>\n",
       "      <td>-0.030248</td>\n",
       "      <td>-0.089254</td>\n",
       "      <td>0.046459</td>\n",
       "      <td>0.014740</td>\n",
       "      <td>0.081022</td>\n",
       "      <td>-0.034853</td>\n",
       "      <td>-0.101788</td>\n",
       "      <td>-0.271320</td>\n",
       "      <td>0.021608</td>\n",
       "      <td>0.035163</td>\n",
       "    </tr>\n",
       "    <tr>\n",
       "      <th>3</th>\n",
       "      <td>-0.106004</td>\n",
       "      <td>-0.258679</td>\n",
       "      <td>-0.063229</td>\n",
       "      <td>0.284126</td>\n",
       "      <td>-0.146060</td>\n",
       "      <td>-0.192055</td>\n",
       "      <td>0.153614</td>\n",
       "      <td>-0.000167</td>\n",
       "      <td>0.155111</td>\n",
       "      <td>-0.280773</td>\n",
       "      <td>...</td>\n",
       "      <td>-0.034719</td>\n",
       "      <td>-0.096458</td>\n",
       "      <td>0.061631</td>\n",
       "      <td>0.009796</td>\n",
       "      <td>0.066427</td>\n",
       "      <td>-0.066436</td>\n",
       "      <td>-0.114014</td>\n",
       "      <td>-0.280360</td>\n",
       "      <td>0.036167</td>\n",
       "      <td>0.061446</td>\n",
       "    </tr>\n",
       "    <tr>\n",
       "      <th>4</th>\n",
       "      <td>-0.105334</td>\n",
       "      <td>-0.252053</td>\n",
       "      <td>-0.073857</td>\n",
       "      <td>0.277144</td>\n",
       "      <td>-0.112141</td>\n",
       "      <td>-0.179464</td>\n",
       "      <td>0.175780</td>\n",
       "      <td>-0.013220</td>\n",
       "      <td>0.157722</td>\n",
       "      <td>-0.271809</td>\n",
       "      <td>...</td>\n",
       "      <td>-0.032830</td>\n",
       "      <td>-0.098836</td>\n",
       "      <td>0.067160</td>\n",
       "      <td>0.027920</td>\n",
       "      <td>0.053947</td>\n",
       "      <td>-0.094349</td>\n",
       "      <td>-0.117997</td>\n",
       "      <td>-0.274881</td>\n",
       "      <td>0.056160</td>\n",
       "      <td>0.059440</td>\n",
       "    </tr>\n",
       "    <tr>\n",
       "      <th>...</th>\n",
       "      <td>...</td>\n",
       "      <td>...</td>\n",
       "      <td>...</td>\n",
       "      <td>...</td>\n",
       "      <td>...</td>\n",
       "      <td>...</td>\n",
       "      <td>...</td>\n",
       "      <td>...</td>\n",
       "      <td>...</td>\n",
       "      <td>...</td>\n",
       "      <td>...</td>\n",
       "      <td>...</td>\n",
       "      <td>...</td>\n",
       "      <td>...</td>\n",
       "      <td>...</td>\n",
       "      <td>...</td>\n",
       "      <td>...</td>\n",
       "      <td>...</td>\n",
       "      <td>...</td>\n",
       "      <td>...</td>\n",
       "      <td>...</td>\n",
       "    </tr>\n",
       "    <tr>\n",
       "      <th>114319</th>\n",
       "      <td>-0.096574</td>\n",
       "      <td>-0.256842</td>\n",
       "      <td>-0.051753</td>\n",
       "      <td>0.287993</td>\n",
       "      <td>-0.145312</td>\n",
       "      <td>-0.190901</td>\n",
       "      <td>0.149999</td>\n",
       "      <td>0.005181</td>\n",
       "      <td>0.143315</td>\n",
       "      <td>-0.286338</td>\n",
       "      <td>...</td>\n",
       "      <td>-0.038752</td>\n",
       "      <td>-0.103813</td>\n",
       "      <td>0.053094</td>\n",
       "      <td>0.011279</td>\n",
       "      <td>0.086098</td>\n",
       "      <td>-0.046130</td>\n",
       "      <td>-0.118889</td>\n",
       "      <td>-0.294400</td>\n",
       "      <td>0.017810</td>\n",
       "      <td>0.047407</td>\n",
       "    </tr>\n",
       "    <tr>\n",
       "      <th>114320</th>\n",
       "      <td>-0.095367</td>\n",
       "      <td>-0.257921</td>\n",
       "      <td>-0.049849</td>\n",
       "      <td>0.289067</td>\n",
       "      <td>-0.148735</td>\n",
       "      <td>-0.192147</td>\n",
       "      <td>0.148332</td>\n",
       "      <td>0.006779</td>\n",
       "      <td>0.141814</td>\n",
       "      <td>-0.287648</td>\n",
       "      <td>...</td>\n",
       "      <td>-0.039021</td>\n",
       "      <td>-0.104452</td>\n",
       "      <td>0.052963</td>\n",
       "      <td>0.009199</td>\n",
       "      <td>0.087709</td>\n",
       "      <td>-0.042465</td>\n",
       "      <td>-0.119243</td>\n",
       "      <td>-0.294695</td>\n",
       "      <td>0.015460</td>\n",
       "      <td>0.048553</td>\n",
       "    </tr>\n",
       "    <tr>\n",
       "      <th>114321</th>\n",
       "      <td>-0.093358</td>\n",
       "      <td>-0.261078</td>\n",
       "      <td>-0.046274</td>\n",
       "      <td>0.292294</td>\n",
       "      <td>-0.156186</td>\n",
       "      <td>-0.195385</td>\n",
       "      <td>0.145562</td>\n",
       "      <td>0.009983</td>\n",
       "      <td>0.139395</td>\n",
       "      <td>-0.291332</td>\n",
       "      <td>...</td>\n",
       "      <td>-0.042762</td>\n",
       "      <td>-0.110915</td>\n",
       "      <td>0.053106</td>\n",
       "      <td>0.004353</td>\n",
       "      <td>0.092263</td>\n",
       "      <td>-0.036264</td>\n",
       "      <td>-0.122927</td>\n",
       "      <td>-0.292425</td>\n",
       "      <td>0.005524</td>\n",
       "      <td>0.051021</td>\n",
       "    </tr>\n",
       "    <tr>\n",
       "      <th>114322</th>\n",
       "      <td>-0.093358</td>\n",
       "      <td>-0.261078</td>\n",
       "      <td>-0.046274</td>\n",
       "      <td>0.292294</td>\n",
       "      <td>-0.156186</td>\n",
       "      <td>-0.195385</td>\n",
       "      <td>0.145562</td>\n",
       "      <td>0.009983</td>\n",
       "      <td>0.139395</td>\n",
       "      <td>-0.291332</td>\n",
       "      <td>...</td>\n",
       "      <td>-0.042762</td>\n",
       "      <td>-0.110915</td>\n",
       "      <td>0.053106</td>\n",
       "      <td>0.004353</td>\n",
       "      <td>0.092263</td>\n",
       "      <td>-0.036264</td>\n",
       "      <td>-0.122927</td>\n",
       "      <td>-0.292425</td>\n",
       "      <td>0.005524</td>\n",
       "      <td>0.051021</td>\n",
       "    </tr>\n",
       "    <tr>\n",
       "      <th>114323</th>\n",
       "      <td>-0.092771</td>\n",
       "      <td>-0.252256</td>\n",
       "      <td>-0.048066</td>\n",
       "      <td>0.282446</td>\n",
       "      <td>-0.146839</td>\n",
       "      <td>-0.188124</td>\n",
       "      <td>0.144025</td>\n",
       "      <td>0.007213</td>\n",
       "      <td>0.137982</td>\n",
       "      <td>-0.281101</td>\n",
       "      <td>...</td>\n",
       "      <td>-0.028652</td>\n",
       "      <td>-0.092250</td>\n",
       "      <td>0.054021</td>\n",
       "      <td>0.012420</td>\n",
       "      <td>0.086516</td>\n",
       "      <td>-0.035528</td>\n",
       "      <td>-0.105675</td>\n",
       "      <td>-0.304779</td>\n",
       "      <td>0.030125</td>\n",
       "      <td>0.042820</td>\n",
       "    </tr>\n",
       "  </tbody>\n",
       "</table>\n",
       "<p>114324 rows × 50 columns</p>\n",
       "</div>"
      ],
      "text/plain": [
       "              0         1         2         3         4         5         6   \\\n",
       "0      -0.090709 -0.251975 -0.045467  0.282222 -0.149535 -0.188388  0.141450   \n",
       "1      -0.105589 -0.249290 -0.082937  0.267890 -0.090993 -0.169736  0.191694   \n",
       "2      -0.117050 -0.251716 -0.063989  0.291099 -0.162530 -0.206871  0.159735   \n",
       "3      -0.106004 -0.258679 -0.063229  0.284126 -0.146060 -0.192055  0.153614   \n",
       "4      -0.105334 -0.252053 -0.073857  0.277144 -0.112141 -0.179464  0.175780   \n",
       "...          ...       ...       ...       ...       ...       ...       ...   \n",
       "114319 -0.096574 -0.256842 -0.051753  0.287993 -0.145312 -0.190901  0.149999   \n",
       "114320 -0.095367 -0.257921 -0.049849  0.289067 -0.148735 -0.192147  0.148332   \n",
       "114321 -0.093358 -0.261078 -0.046274  0.292294 -0.156186 -0.195385  0.145562   \n",
       "114322 -0.093358 -0.261078 -0.046274  0.292294 -0.156186 -0.195385  0.145562   \n",
       "114323 -0.092771 -0.252256 -0.048066  0.282446 -0.146839 -0.188124  0.144025   \n",
       "\n",
       "              7         8         9   ...        40        41        42  \\\n",
       "0       0.009015  0.135344 -0.281213  ... -0.026789 -0.090211  0.054024   \n",
       "1      -0.022254  0.160962 -0.260920  ... -0.033256 -0.105994  0.068096   \n",
       "2      -0.001863  0.170982 -0.275303  ... -0.030248 -0.089254  0.046459   \n",
       "3      -0.000167  0.155111 -0.280773  ... -0.034719 -0.096458  0.061631   \n",
       "4      -0.013220  0.157722 -0.271809  ... -0.032830 -0.098836  0.067160   \n",
       "...          ...       ...       ...  ...       ...       ...       ...   \n",
       "114319  0.005181  0.143315 -0.286338  ... -0.038752 -0.103813  0.053094   \n",
       "114320  0.006779  0.141814 -0.287648  ... -0.039021 -0.104452  0.052963   \n",
       "114321  0.009983  0.139395 -0.291332  ... -0.042762 -0.110915  0.053106   \n",
       "114322  0.009983  0.139395 -0.291332  ... -0.042762 -0.110915  0.053106   \n",
       "114323  0.007213  0.137982 -0.281101  ... -0.028652 -0.092250  0.054021   \n",
       "\n",
       "              43        44        45        46        47        48        49  \n",
       "0       0.010953  0.087776 -0.030543 -0.103395 -0.307168  0.030882  0.042989  \n",
       "1       0.043847  0.052686 -0.101878 -0.125591 -0.271541  0.052875  0.041560  \n",
       "2       0.014740  0.081022 -0.034853 -0.101788 -0.271320  0.021608  0.035163  \n",
       "3       0.009796  0.066427 -0.066436 -0.114014 -0.280360  0.036167  0.061446  \n",
       "4       0.027920  0.053947 -0.094349 -0.117997 -0.274881  0.056160  0.059440  \n",
       "...          ...       ...       ...       ...       ...       ...       ...  \n",
       "114319  0.011279  0.086098 -0.046130 -0.118889 -0.294400  0.017810  0.047407  \n",
       "114320  0.009199  0.087709 -0.042465 -0.119243 -0.294695  0.015460  0.048553  \n",
       "114321  0.004353  0.092263 -0.036264 -0.122927 -0.292425  0.005524  0.051021  \n",
       "114322  0.004353  0.092263 -0.036264 -0.122927 -0.292425  0.005524  0.051021  \n",
       "114323  0.012420  0.086516 -0.035528 -0.105675 -0.304779  0.030125  0.042820  \n",
       "\n",
       "[114324 rows x 50 columns]"
      ]
     },
     "execution_count": 14,
     "metadata": {},
     "output_type": "execute_result"
    }
   ],
   "source": [
    "node_embeddings_df"
   ]
  },
  {
   "cell_type": "code",
   "execution_count": 15,
   "metadata": {},
   "outputs": [],
   "source": [
    "userGraph_baseline = StellarGraph.from_networkx(ig.to_networkx(), node_type_default = \"user\", edge_type_default = \"friendship\", node_features = node_embeddings_df)"
   ]
  },
  {
   "cell_type": "code",
   "execution_count": 16,
   "metadata": {},
   "outputs": [],
   "source": [
    "def graphsage_learning(edge_splitter_test):\n",
    "    # Randomly sample a fraction p=0.1 of all positive links, and same number of negative links, from G, and obtain the\n",
    "    # reduced graph G_test with the sampled links removed:\n",
    "    G_test, edge_ids_test, edge_labels_test = edge_splitter_test.train_test_split(\n",
    "        p=0.1, method=\"global\", keep_connected=True\n",
    "    )\n",
    "\n",
    "    # Define an edge splitter on the reduced graph G_test:\n",
    "    edge_splitter_train = EdgeSplitter(G_test)\n",
    "\n",
    "    # Randomly sample a fraction p=0.1 of all positive links, and same number of negative links, from G_test, and obtain the\n",
    "    # reduced graph G_train with the sampled links removed:\n",
    "    G_train, edge_ids_train, edge_labels_train = edge_splitter_train.train_test_split(\n",
    "        p=0.1, method=\"global\", keep_connected=True\n",
    "    )\n",
    "\n",
    "    batch_size = 20\n",
    "    epochs = 5\n",
    "    num_samples = [20, 10]\n",
    "\n",
    "    train_gen = GraphSAGELinkGenerator(G_train, batch_size, num_samples, weighted =True)\n",
    "    train_flow = train_gen.flow(edge_ids_train, edge_labels_train, shuffle=True)\n",
    "    test_gen = GraphSAGELinkGenerator(G_test, batch_size, num_samples, weighted =True)\n",
    "    test_flow = test_gen.flow(edge_ids_test, edge_labels_test)\n",
    "\n",
    "    layer_sizes = [50, 50]\n",
    "    graphsage = GraphSAGE(\n",
    "        layer_sizes=layer_sizes, generator=train_gen, bias=True, dropout=0.3\n",
    "    )\n",
    "\n",
    "    x_inp, x_out = graphsage.in_out_tensors()\n",
    "\n",
    "    prediction = link_classification(\n",
    "        output_dim=1, output_act=\"relu\", edge_embedding_method=\"ip\"\n",
    "    )(x_out)\n",
    "\n",
    "    from tensorflow import keras\n",
    "    model = keras.Model(inputs=x_inp, outputs=prediction)\n",
    "\n",
    "    model.compile(\n",
    "        optimizer=keras.optimizers.Adam(learning_rate=1e-3),\n",
    "        loss=keras.losses.binary_crossentropy,\n",
    "        metrics=[\"acc\"],\n",
    "    )\n",
    "\n",
    "    init_train_metrics = model.evaluate(train_flow)\n",
    "    init_test_metrics = model.evaluate(test_flow)\n",
    "\n",
    "    print(\"\\nTrain Set Metrics of the initial (untrained) model:\")\n",
    "    for name, val in zip(model.metrics_names, init_train_metrics):\n",
    "        print(\"\\t{}: {:0.4f}\".format(name, val))\n",
    "\n",
    "    print(\"\\nTest Set Metrics of the initial (untrained) model:\")\n",
    "    for name, val in zip(model.metrics_names, init_test_metrics):\n",
    "        print(\"\\t{}: {:0.4f}\".format(name, val))\n",
    "\n",
    "    print()\n",
    "    print(\"#################################################################################################################\")\n",
    "\n",
    "    history = model.fit(train_flow, epochs=epochs, validation_data=test_flow, verbose=2)\n",
    "\n",
    "    import stellargraph as sg\n",
    "    sg.utils.plot_history(history)\n",
    "\n",
    "    print()\n",
    "    print(\"################################################################################################################\")\n",
    "\n",
    "    train_metrics = model.evaluate(train_flow)\n",
    "    test_metrics = model.evaluate(test_flow)\n",
    "\n",
    "    print(\"\\nTrain Set Metrics of the trained model:\")\n",
    "    for name, val in zip(model.metrics_names, train_metrics):\n",
    "        print(\"\\t{}: {:0.4f}\".format(name, val))\n",
    "\n",
    "    print(\"\\nTest Set Metrics of the trained model:\")\n",
    "    for name, val in zip(model.metrics_names, test_metrics):\n",
    "        print(\"\\t{}: {:0.4f}\".format(name, val))"
   ]
  },
  {
   "cell_type": "code",
   "execution_count": 18,
   "metadata": {},
   "outputs": [
    {
     "name": "stdout",
     "output_type": "stream",
     "text": [
      "** Sampled 60733 positive and 60733 negative edges. **\n",
      "** Sampled 54660 positive and 54660 negative edges. **\n",
      "link_classification: using 'ip' method to combine node embeddings into edge embeddings\n",
      "5466/5466 [==============================] - 258s 47ms/step - loss: 2.1340 - acc: 0.5000\n",
      "6074/6074 [==============================] - 289s 48ms/step - loss: 2.1308 - acc: 0.5000\n",
      "\n",
      "Train Set Metrics of the initial (untrained) model:\n",
      "\tloss: 2.1340\n",
      "\tacc: 0.5000\n",
      "\n",
      "Test Set Metrics of the initial (untrained) model:\n",
      "\tloss: 2.1308\n",
      "\tacc: 0.5000\n",
      "\n",
      "#################################################################################################################\n",
      "Epoch 1/5\n",
      "5466/5466 - 513s - loss: 0.4710 - acc: 0.7716 - val_loss: 0.5572 - val_acc: 0.7842\n",
      "Epoch 2/5\n",
      "5466/5466 - 510s - loss: 0.4342 - acc: 0.7964 - val_loss: 0.5690 - val_acc: 0.7631\n",
      "Epoch 3/5\n",
      "5466/5466 - 510s - loss: 0.4093 - acc: 0.8127 - val_loss: 0.4614 - val_acc: 0.8146\n",
      "Epoch 4/5\n",
      "5466/5466 - 511s - loss: 0.3933 - acc: 0.8188 - val_loss: 0.5334 - val_acc: 0.7729\n",
      "Epoch 5/5\n",
      "5466/5466 - 511s - loss: 0.3750 - acc: 0.8338 - val_loss: 0.4268 - val_acc: 0.8160\n",
      "\n",
      "################################################################################################################\n",
      "5466/5466 [==============================] - 255s 47ms/step - loss: 0.4327 - acc: 0.8153\n",
      "6074/6074 [==============================] - 286s 47ms/step - loss: 0.4294 - acc: 0.8160\n",
      "\n",
      "Train Set Metrics of the trained model:\n",
      "\tloss: 0.4327\n",
      "\tacc: 0.8153\n",
      "\n",
      "Test Set Metrics of the trained model:\n",
      "\tloss: 0.4294\n",
      "\tacc: 0.8160\n",
      "time : 3764.1926980018616\n"
     ]
    },
    {
     "data": {
      "image/png": "[encoded data removed]",
      "text/plain": [
       "<Figure size 504x576 with 2 Axes>"
      ]
     },
     "metadata": {
      "needs_background": "light"
     },
     "output_type": "display_data"
    }
   ],
   "source": [
    "start = time.time()\n",
    "edge_splitter_test = EdgeSplitter(userGraph_baseline)\n",
    "graphsage_learning(edge_splitter_test)\n",
    "print(\"time :\", time.time() - start) "
   ]
  },
  {
   "cell_type": "markdown",
   "metadata": {},
   "source": [
    "### 이까지는 전체 그래프 (114,324개) Node embedding한 결과. "
   ]
  },
  {
   "cell_type": "code",
   "execution_count": 19,
   "metadata": {},
   "outputs": [],
   "source": [
    "with open(\"/home/jhpark/dataset_WWW2019/community_info.pickle\",\"rb\") as f:\n",
    "    LP = pickle.load(f) # 1 Label-propagation-based"
   ]
  },
  {
   "cell_type": "code",
   "execution_count": 20,
   "metadata": {},
   "outputs": [],
   "source": [
    "mu = Graph.community_multilevel(ig) # 2 Modularity-based => OK"
   ]
  },
  {
   "cell_type": "code",
   "execution_count": 21,
   "metadata": {},
   "outputs": [
    {
     "data": {
      "text/plain": [
       "'Clustering with 114324 elements and 1964 clusters'"
      ]
     },
     "execution_count": 21,
     "metadata": {},
     "output_type": "execute_result"
    }
   ],
   "source": [
    "mu.summary()"
   ]
  },
  {
   "cell_type": "code",
   "execution_count": 22,
   "metadata": {},
   "outputs": [],
   "source": [
    "eigen = Graph.community_leading_eigenvector(ig) # 4 Eigenvector-based => OK"
   ]
  },
  {
   "cell_type": "code",
   "execution_count": 23,
   "metadata": {},
   "outputs": [
    {
     "data": {
      "text/plain": [
       "'Clustering with 114324 elements and 1864 clusters'"
      ]
     },
     "execution_count": 23,
     "metadata": {},
     "output_type": "execute_result"
    }
   ],
   "source": [
    "eigen.summary()"
   ]
  },
  {
   "cell_type": "code",
   "execution_count": 14,
   "metadata": {},
   "outputs": [],
   "source": [
    "random_walk = Graph.community_walktrap(ig) # 5 Random walks-based => OK "
   ]
  },
  {
   "cell_type": "code",
   "execution_count": 15,
   "metadata": {},
   "outputs": [
    {
     "data": {
      "text/plain": [
       "'Dendrogram, 114324 elements, 112463 merges'"
      ]
     },
     "execution_count": 15,
     "metadata": {},
     "output_type": "execute_result"
    }
   ],
   "source": [
    "random_walk.summary()"
   ]
  },
  {
   "cell_type": "code",
   "execution_count": 27,
   "metadata": {},
   "outputs": [],
   "source": [
    "random_walk = random_walk.as_clustering()"
   ]
  },
  {
   "cell_type": "code",
   "execution_count": 36,
   "metadata": {},
   "outputs": [
    {
     "data": {
      "text/plain": [
       "'Clustering with 114324 elements and 7931 clusters'"
      ]
     },
     "execution_count": 36,
     "metadata": {},
     "output_type": "execute_result"
    }
   ],
   "source": [
    "random_walk.summary()"
   ]
  },
  {
   "cell_type": "code",
   "execution_count": 13,
   "metadata": {},
   "outputs": [],
   "source": [
    "info = Graph.community_infomap(ig) # 7 InfoMAP algorithm => OK"
   ]
  },
  {
   "cell_type": "code",
   "execution_count": 14,
   "metadata": {},
   "outputs": [
    {
     "data": {
      "text/plain": [
       "'Clustering with 114324 elements and 8182 clusters'"
      ]
     },
     "execution_count": 14,
     "metadata": {},
     "output_type": "execute_result"
    }
   ],
   "source": [
    "info.summary()"
   ]
  },
  {
   "cell_type": "code",
   "execution_count": 24,
   "metadata": {},
   "outputs": [],
   "source": [
    "# 알고리즘 선택 @@@\n",
    "cd_result = mu"
   ]
  },
  {
   "cell_type": "code",
   "execution_count": null,
   "metadata": {},
   "outputs": [],
   "source": [
    "size_threshold = 100"
   ]
  },
  {
   "cell_type": "code",
   "execution_count": 1,
   "metadata": {},
   "outputs": [],
   "source": [
    "batch_size = 20\n",
    "epochs = 5\n",
    "num_samples = [20, 10]\n",
    "layer_sizes = [50, 50]\n",
    "\n",
    "def subGraphSAGE(subgraphList):\n",
    "    subgraph = ig.induced_subgraph(subgraphList,implementation=\"create_from_scratch\")\n",
    "    isin_filter = node_features_encoded['userID'].isin(subgraph.vs['id'])\n",
    "    \n",
    "    subgraph_features = node_features_encoded[isin_filter]\n",
    "    subgraph_country_degree = pd.concat([subgraph_features['countrycode_encoded'], subgraph_features['degree']],axis=1)\n",
    "    subgraph_country_degree.reset_index(drop=True,inplace=True)\n",
    "    \n",
    "    subgraph_ = StellarGraph.from_networkx(subgraph.to_networkx(), node_type_default = \"user\", edge_type_default = \"friendship\", node_features = subgraph_country_degree)\n",
    "   \n",
    "    subnodes = list(subgraph_.nodes())\n",
    "    sub_unsupervised_samples = UnsupervisedSampler(\n",
    "        subgraph_, nodes = subnodes, length=5, number_of_walks=1\n",
    "    )\n",
    "    \n",
    "    sub_generator = GraphSAGELinkGenerator(subgraph_, batch_size, num_samples)\n",
    "    sub_train_gen = sub_generator.flow(sub_unsupervised_samples)\n",
    "    \n",
    "    sub_graphsage = GraphSAGE(\n",
    "        layer_sizes = layer_sizes, generator=sub_generator, bias=True, dropout=0.0, normalize=\"l2\"\n",
    "    )\n",
    "    \n",
    "    x_inp, x_out = sub_graphsage.in_out_tensors()\n",
    "    x_inp_src = x_inp[0::2]\n",
    "    x_out_src = x_out[0]\n",
    "    sub_embedding_model = keras.Model(inputs = x_inp_src, outputs = x_out_src)\n",
    "    \n",
    "    sub_node_ids = subgraph_.nodes()\n",
    "    sub_node_gen = GraphSAGENodeGenerator(subgraph_, batch_size, num_samples).flow(sub_node_ids)\n",
    "    \n",
    "    sub_node_embeddings = sub_embedding_model.predict(sub_node_gen, workers=4, verbose=1)\n",
    "    \n",
    "    return sub_node_embeddings"
   ]
  },
  {
   "cell_type": "code",
   "execution_count": 26,
   "metadata": {},
   "outputs": [
    {
     "name": "stdout",
     "output_type": "stream",
     "text": [
      "861/861 [==============================] - 29s 33ms/step\n",
      "17207\n",
      "137/137 [==============================] - 5s 32ms/step\n",
      "2727\n",
      "527/527 [==============================] - 18s 33ms/step\n",
      "10534\n",
      "46/46 [==============================] - 2s 33ms/step\n",
      "901\n",
      "146/146 [==============================] - 5s 31ms/step\n",
      "2917\n",
      "108/108 [==============================] - 4s 33ms/step\n",
      "2153\n",
      "23/23 [==============================] - 1s 33ms/step\n",
      "452\n",
      "38/38 [==============================] - 1s 26ms/step\n",
      "745\n",
      "365/365 [==============================] - 13s 35ms/step\n",
      "7290\n",
      "281/281 [==============================] - 10s 36ms/step\n",
      "5613\n",
      "609/609 [==============================] - 20s 33ms/step\n",
      "12172\n",
      "15/15 [==============================] - 1s 26ms/step\n",
      "288\n",
      "52/52 [==============================] - 2s 30ms/step\n",
      "1027\n",
      "52/52 [==============================] - 2s 32ms/step\n",
      "1039\n",
      "7/7 [==============================] - 0s 27ms/step\n",
      "122\n",
      "435/435 [==============================] - 15s 35ms/step\n",
      "8686\n",
      "362/362 [==============================] - 12s 32ms/step\n",
      "7237\n",
      "26/26 [==============================] - 1s 34ms/step\n",
      "508\n",
      "36/36 [==============================] - 1s 31ms/step\n",
      "716\n",
      "43/43 [==============================] - 2s 28ms/step\n",
      "853\n",
      "11/11 [==============================] - 1s 19ms/step\n",
      "219\n",
      "12/12 [==============================] - 1s 14ms/step\n",
      "233\n",
      "179/179 [==============================] - 6s 32ms/step\n",
      "3572\n",
      "23/23 [==============================] - 1s 26ms/step\n",
      "455\n",
      "183/183 [==============================] - 6s 30ms/step\n",
      "3647\n",
      "176/176 [==============================] - 5s 30ms/step\n",
      "3516\n",
      "41/41 [==============================] - 1s 30ms/step\n",
      "801\n",
      "37/37 [==============================] - 1s 30ms/step\n",
      "722\n",
      "6/6 [==============================] - 0s 11ms/step\n",
      "120\n",
      "52/52 [==============================] - 2s 27ms/step\n",
      "1034\n",
      "422/422 [==============================] - 13s 31ms/step\n",
      "8428\n",
      "17/17 [==============================] - 1s 31ms/step\n",
      "335\n",
      "7/7 [==============================] - 1s 35ms/step\n",
      "140\n",
      "26/26 [==============================] - 1s 31ms/step\n",
      "507\n",
      "8/8 [==============================] - 0s 8ms/step\n",
      "155\n",
      "6/6 [==============================] - 0s 11ms/step\n",
      "118\n",
      "9/9 [==============================] - 1s 30ms/step\n",
      "174\n",
      "43/43 [==============================] - 2s 27ms/step\n",
      "855\n",
      "11/11 [==============================] - 1s 8ms/step\n",
      "204\n",
      "36/36 [==============================] - 1s 20ms/step\n",
      "714\n",
      "time : 228.3399682044983\n"
     ]
    }
   ],
   "source": [
    "start = time.time()\n",
    "count = 0 \n",
    "for community_no in range(len(cd_result)):\n",
    "     \n",
    "    # Intra Community Embedding \n",
    "    if len(cd_result[community_no]) > size_threshold:\n",
    "        sub_node_embeddings = subGraphSAGE(cd_result[community_no])\n",
    "        print(len(sub_node_embeddings))\n",
    "        \n",
    "        # 전체 그래프에 대한 GraphSAGE에 의해 도출된 feature를 아예 덮어쓰는 것. \n",
    "        j=0\n",
    "        for i in cd_result[community_no]:\n",
    "            node_embeddings[i] = sub_node_embeddings[j]\n",
    "            j += 1\n",
    "            count += 1 # 총 덮어쓴 횟수 (=100보다 큰 커뮤니티에 포함된 노드의 개수)\n",
    "print(\"time :\", time.time() - start) "
   ]
  },
  {
   "cell_type": "code",
   "execution_count": 19,
   "metadata": {},
   "outputs": [],
   "source": [
    "c = 0\n",
    "for s in range(len(cd_result)):\n",
    "    if len(cd_result[s])>100:\n",
    "        c += len(cd_result[s])"
   ]
  },
  {
   "cell_type": "code",
   "execution_count": 20,
   "metadata": {},
   "outputs": [
    {
     "name": "stdout",
     "output_type": "stream",
     "text": [
      "Embedding Overwriting Complete!\n"
     ]
    }
   ],
   "source": [
    "if (c == count): print(\"Embedding Overwriting Complete!\")"
   ]
  },
  {
   "cell_type": "markdown",
   "metadata": {},
   "source": [
    "### Downstream Task"
   ]
  },
  {
   "cell_type": "code",
   "execution_count": 27,
   "metadata": {},
   "outputs": [],
   "source": [
    "node_embeddings_df = pd.DataFrame(node_embeddings)"
   ]
  },
  {
   "cell_type": "code",
   "execution_count": 28,
   "metadata": {},
   "outputs": [],
   "source": [
    "userGraph_partitioned = StellarGraph.from_networkx(ig.to_networkx(), node_type_default = \"user\", edge_type_default = \"friendship\", node_features = node_embeddings_df)"
   ]
  },
  {
   "cell_type": "code",
   "execution_count": 29,
   "metadata": {},
   "outputs": [
    {
     "name": "stdout",
     "output_type": "stream",
     "text": [
      "** Sampled 60733 positive and 60733 negative edges. **\n",
      "** Sampled 54660 positive and 54660 negative edges. **\n",
      "link_classification: using 'ip' method to combine node embeddings into edge embeddings\n",
      "5466/5466 [==============================] - 258s 47ms/step - loss: 0.3477 - acc: 0.9099\n",
      "6074/6074 [==============================] - 289s 48ms/step - loss: 0.3545 - acc: 0.9074\n",
      "\n",
      "Train Set Metrics of the initial (untrained) model:\n",
      "\tloss: 0.3477\n",
      "\tacc: 0.9099\n",
      "\n",
      "Test Set Metrics of the initial (untrained) model:\n",
      "\tloss: 0.3545\n",
      "\tacc: 0.9074\n",
      "\n",
      "#################################################################################################################\n",
      "Epoch 1/5\n",
      "5466/5466 - 510s - loss: 0.1928 - acc: 0.9473 - val_loss: 0.2215 - val_acc: 0.9501\n",
      "Epoch 2/5\n",
      "5466/5466 - 759s - loss: 0.1636 - acc: 0.9508 - val_loss: 0.1982 - val_acc: 0.9521\n",
      "Epoch 3/5\n",
      "5466/5466 - 515s - loss: 0.1626 - acc: 0.9510 - val_loss: 0.1951 - val_acc: 0.9540\n",
      "Epoch 4/5\n",
      "5466/5466 - 514s - loss: 0.1525 - acc: 0.9549 - val_loss: 0.1883 - val_acc: 0.9535\n",
      "Epoch 5/5\n",
      "5466/5466 - 517s - loss: 0.1484 - acc: 0.9554 - val_loss: 0.1887 - val_acc: 0.9534\n",
      "\n",
      "################################################################################################################\n",
      "5466/5466 [==============================] - 260s 47ms/step - loss: 0.1805 - acc: 0.9553\n",
      "6074/6074 [==============================] - 288s 47ms/step - loss: 0.1893 - acc: 0.9538\n",
      "\n",
      "Train Set Metrics of the trained model:\n",
      "\tloss: 0.1805\n",
      "\tacc: 0.9553\n",
      "\n",
      "Test Set Metrics of the trained model:\n",
      "\tloss: 0.1893\n",
      "\tacc: 0.9538\n",
      "time : 4030.082288503647\n"
     ]
    },
    {
     "data": {
      "image/png": "[encoded data removed]",
      "text/plain": [
       "<Figure size 504x576 with 2 Axes>"
      ]
     },
     "metadata": {
      "needs_background": "light"
     },
     "output_type": "display_data"
    }
   ],
   "source": [
    "start = time.time()\n",
    "edge_splitter_test = EdgeSplitter(userGraph_partitioned)\n",
    "graphsage_learning(edge_splitter_test)\n",
    "print(\"time :\", time.time() - start) "
   ]
  },
  {
   "cell_type": "code",
   "execution_count": null,
   "metadata": {},
   "outputs": [],
   "source": [
    "'''\n",
    "Train Set Metrics of the trained model:\n",
    "\tloss: 0.4121\n",
    "\tacc: 0.8249\n",
    "\n",
    "Test Set Metrics of the trained model:\n",
    "\tloss: 0.4171\n",
    "\tacc: 0.8248\n",
    "----------------------------------\n",
    "Train Set Metrics of the trained model:\n",
    "\tloss: 0.2021\n",
    "\tacc: 0.9426\n",
    "\n",
    "Test Set Metrics of the trained model:\n",
    "\tloss: 0.2076\n",
    "\tacc: 0.9417\n",
    "'''"
   ]
  }
 ],
 "metadata": {
  "kernelspec": {
   "display_name": "python36",
   "language": "python",
   "name": "python36"
  },
  "language_info": {
   "codemirror_mode": {
    "name": "ipython",
    "version": 3
   },
   "file_extension": ".py",
   "mimetype": "text/x-python",
   "name": "python",
   "nbconvert_exporter": "python",
   "pygments_lexer": "ipython3",
   "version": "3.6.13"
  }
 },
 "nbformat": 4,
 "nbformat_minor": 2
}
